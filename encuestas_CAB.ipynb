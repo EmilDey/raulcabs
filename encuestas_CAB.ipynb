{
 "cells": [
  {
   "cell_type": "code",
   "execution_count": 52,
   "metadata": {},
   "outputs": [],
   "source": [
    "import pandas as pd\n",
    "import numpy as np\n",
    "import matplotlib.pyplot as plt\n",
    "import seaborn as sns\n"
   ]
  },
  {
   "cell_type": "code",
   "execution_count": 16,
   "metadata": {},
   "outputs": [
    {
     "data": {
      "text/html": [
       "<div>\n",
       "<style scoped>\n",
       "    .dataframe tbody tr th:only-of-type {\n",
       "        vertical-align: middle;\n",
       "    }\n",
       "\n",
       "    .dataframe tbody tr th {\n",
       "        vertical-align: top;\n",
       "    }\n",
       "\n",
       "    .dataframe thead th {\n",
       "        text-align: right;\n",
       "    }\n",
       "</style>\n",
       "<table border=\"1\" class=\"dataframe\">\n",
       "  <thead>\n",
       "    <tr style=\"text-align: right;\">\n",
       "      <th></th>\n",
       "      <th>niño1</th>\n",
       "      <th>niño2</th>\n",
       "      <th>niña3</th>\n",
       "      <th>niña4</th>\n",
       "      <th>niña5</th>\n",
       "      <th>niño6</th>\n",
       "      <th>niña7</th>\n",
       "      <th>niña8</th>\n",
       "      <th>niño9</th>\n",
       "      <th>niña10</th>\n",
       "    </tr>\n",
       "  </thead>\n",
       "  <tbody>\n",
       "    <tr>\n",
       "      <th>22</th>\n",
       "      <td>e</td>\n",
       "      <td>b</td>\n",
       "      <td>d</td>\n",
       "      <td>d</td>\n",
       "      <td>d</td>\n",
       "      <td>d</td>\n",
       "      <td>d</td>\n",
       "      <td>d</td>\n",
       "      <td>e</td>\n",
       "      <td>d</td>\n",
       "    </tr>\n",
       "    <tr>\n",
       "      <th>23</th>\n",
       "      <td>a</td>\n",
       "      <td>a</td>\n",
       "      <td>e</td>\n",
       "      <td>e</td>\n",
       "      <td>e</td>\n",
       "      <td>e</td>\n",
       "      <td>c</td>\n",
       "      <td>e</td>\n",
       "      <td>a</td>\n",
       "      <td>c</td>\n",
       "    </tr>\n",
       "    <tr>\n",
       "      <th>24</th>\n",
       "      <td>a</td>\n",
       "      <td>b</td>\n",
       "      <td>b</td>\n",
       "      <td>d</td>\n",
       "      <td>d</td>\n",
       "      <td>d</td>\n",
       "      <td>d</td>\n",
       "      <td>e</td>\n",
       "      <td>c</td>\n",
       "      <td>d</td>\n",
       "    </tr>\n",
       "    <tr>\n",
       "      <th>25</th>\n",
       "      <td>b</td>\n",
       "      <td>b</td>\n",
       "      <td>e</td>\n",
       "      <td>b</td>\n",
       "      <td>b</td>\n",
       "      <td>b</td>\n",
       "      <td>a</td>\n",
       "      <td>a</td>\n",
       "      <td>e</td>\n",
       "      <td>a</td>\n",
       "    </tr>\n",
       "    <tr>\n",
       "      <th>26</th>\n",
       "      <td>d</td>\n",
       "      <td>b</td>\n",
       "      <td>b</td>\n",
       "      <td>c</td>\n",
       "      <td>c</td>\n",
       "      <td>a</td>\n",
       "      <td>a</td>\n",
       "      <td>a</td>\n",
       "      <td>d</td>\n",
       "      <td>a</td>\n",
       "    </tr>\n",
       "  </tbody>\n",
       "</table>\n",
       "</div>"
      ],
      "text/plain": [
       "   niño1 niño2 niña3 niña4 niña5 niño6 niña7 niña8 niño9 niña10\n",
       "22     e     b     d     d     d     d     d     d     e      d\n",
       "23     a     a     e     e     e     e     c     e     a      c\n",
       "24     a     b     b     d     d     d     d     e     c      d\n",
       "25     b     b     e     b     b     b     a     a     e      a\n",
       "26     d     b     b     c     c     a     a     a     d      a"
      ]
     },
     "execution_count": 16,
     "metadata": {},
     "output_type": "execute_result"
    }
   ],
   "source": [
    "correc_df = pd.read_csv('tabla_correccion.csv')\n",
    "tabla = correc_df.values\n",
    "sujetos = pd.read_csv('tabla_encuesta_asertividad.csv')\n",
    "percentil = pd.read_csv('tabla_percentil.csv')\n",
    "percentil.head()\n",
    "percentil_v = pd.read_csv('tabla_percentil_varon.csv')\n",
    "percentil_v.tail()\n",
    "percentil_m = pd.read_csv('tabla_percentil_mujer.csv')\n",
    "sujetos.tail()\n"
   ]
  },
  {
   "cell_type": "code",
   "execution_count": 17,
   "metadata": {},
   "outputs": [
    {
     "name": "stdout",
     "output_type": "stream",
     "text": [
      "Empty DataFrame\n",
      "Columns: [niño1, niño2, niña3, niña4, niña5, niño6, niña7, niña8, niño9, niña10]\n",
      "Index: []\n",
      "    niño1  niño2  niña3  niña4  niña5  niño6  niña7  niña8  niño9  niña10\n",
      "0       0      0      0     -2      0     -2      0      0      1      -2\n",
      "1       0     -2      0      0      0     -2      0      0      0       0\n",
      "2       0      2      2      2      0      2      2      0     -2       2\n",
      "3       0      1      0      2      2      1      2      2     -1       2\n",
      "4      -2      0      0      1      1      0      1     -2     -2       1\n",
      "5       0      0      0      2      1      2     -2      0      0       1\n",
      "6       0     -1      0      2      0      2     -1      1      1       0\n",
      "7       0      1      0     -2     -2     -2     -1      1      0      -2\n",
      "8       1      2      2      2      2      2      1     -1     -2       2\n",
      "9       1     -1     -1      1      0      2      2      0      1       0\n",
      "10      0      0      0      1      0     -1      0      0      0       0\n",
      "11      0      0      0      0      0     -2     -2      0      0       0\n",
      "12      0      0      2      2      2      2      1      1      0       2\n",
      "13      0     -2     -2      2      2      2     -1     -1     -2       2\n",
      "14     -2      2      2      2      2      2     -2      0     -2       2\n",
      "15      0     -1     -2      2      2      2     -2      1     -1       2\n",
      "16     -2      0      1      2      2      2      1      1     -2       2\n",
      "17      2      1     -1      1      1      2     -2     -2      2       2\n",
      "18      0      1     -2     -1      1      1      2      2      0       1\n",
      "19      0      0      0      2     -1      2     -2      2      0       2\n",
      "20      0      0      0      2      0      2      2      0      0       2\n",
      "21     -1     -2      0      1      1      1      0      1     -1       1\n",
      "22      1      2     -1     -1     -1     -1     -1     -1      1      -1\n",
      "23      0      0      2      2      2      2      1      2      0       1\n",
      "24     -1      1      1      2      2      2      2      0     -2       2\n",
      "25      0      0     -2      0      0      0      2      2     -2       2\n",
      "26      0     -2     -2      2      2      1      1      1      0       1\n"
     ]
    }
   ],
   "source": [
    "\n",
    "\n",
    "\n",
    "columna = 0\n",
    "suj = []\n",
    "lista = []\n",
    "numerico = pd.DataFrame(columns=sujetos.columns)\n",
    "print(numerico)\n",
    "\n",
    "for column in sujetos.columns[:]:\n",
    " \n",
    "    fila = 0\n",
    "    for items in sujetos[column]:\n",
    "        \n",
    "        #print (items)\n",
    "        match (items):\n",
    "            case \"a\":\n",
    "              lista.append (tabla[fila][0])  \n",
    "            case \"b\":\n",
    "              lista.append(tabla[fila][1])\n",
    "            case \"c\":\n",
    "               lista.append(tabla[fila][2])\n",
    "            case \"d\":\n",
    "               lista.append(tabla[fila][3])\n",
    "            case \"e\":\n",
    "              lista.append(tabla[fila][4])\n",
    "\n",
    "        fila +=1\n",
    "    #print (lista)\n",
    "\n",
    "    numerico[column] = lista\n",
    "    se = pd.Series(lista)\n",
    "   \n",
    "    lista.clear()\n",
    "    columna += 1\n",
    "\n",
    "df_encuesta = numerico\n",
    "numerico.head()\n",
    "print (numerico)\n"
   ]
  },
  {
   "cell_type": "code",
   "execution_count": 18,
   "metadata": {},
   "outputs": [
    {
     "name": "stdout",
     "output_type": "stream",
     "text": [
      "   niño1  niño2  niña3  niña4  niña5  niño6  niña7  niña8  niño9  niña10\n",
      "0     18     11     12      3      9      2      4     10     11       5\n",
      "1      8     11     13      6      4     10     16      7     19       5\n",
      "2      5     13     12     35     25     34     20     17      6      32\n"
     ]
    }
   ],
   "source": [
    "clasificado = pd.DataFrame(columns=sujetos.columns)\n",
    "\n",
    "\n",
    "for column in numerico.columns[:]:\n",
    "    asertivo=0\n",
    "    pasivo=0\n",
    "    agresivo=0\n",
    "    fila = 0\n",
    "    for items in numerico[column]:\n",
    "        if items == 0:\n",
    "            asertivo +=1\n",
    "        elif items >0 :\n",
    "            agresivo = agresivo + items\n",
    "        else :\n",
    "            pasivo -= items\n",
    "    clasificado[column] = [asertivo,pasivo,agresivo]\n",
    "print (clasificado)"
   ]
  },
  {
   "cell_type": "code",
   "execution_count": 19,
   "metadata": {},
   "outputs": [
    {
     "name": "stdout",
     "output_type": "stream",
     "text": [
      "          niño1  niño2  niña3  niña4  niña5  niño6  niña7  niña8  niño9  \\\n",
      "Asertivo     18     11     12      3      9      2      4     10     11   \n",
      "Pasivo        8     11     13      6      4     10     16      7     19   \n",
      "Agresivo      5     13     12     35     25     34     20     17      6   \n",
      "\n",
      "          niña10  \n",
      "Asertivo       5  \n",
      "Pasivo         5  \n",
      "Agresivo      32  \n"
     ]
    }
   ],
   "source": [
    "# Creamos un nuevo DataFrame para almacenar los comportamientos clasificados\n",
    "clasificado = pd.DataFrame()\n",
    "df_final = numerico\n",
    "\n",
    "# Aplicamos la función de clasificación a cada columna del DataFrame final\n",
    "for column in df_final.columns:\n",
    "    asertivo = 0\n",
    "    pasivo = 0\n",
    "    agresivo = 0\n",
    "    for item in df_final[column]:\n",
    "        if item == 0:\n",
    "            asertivo += 1\n",
    "        elif item > 0:\n",
    "            agresivo += item\n",
    "        else:\n",
    "            pasivo -= item\n",
    "    clasificado[column] = [asertivo, pasivo, agresivo]\n",
    "\n",
    "# Renombramos las filas del nuevo DataFrame\n",
    "clasificado.index = ['Asertivo', 'Pasivo', 'Agresivo']\n",
    "\n",
    "# Mostramos el DataFrame clasificado\n",
    "print(clasificado)\n",
    "\n",
    "clasificado.to_csv('resultados_crudo.csv', index=True)\n"
   ]
  },
  {
   "cell_type": "code",
   "execution_count": 20,
   "metadata": {},
   "outputs": [
    {
     "data": {
      "text/html": [
       "<div>\n",
       "<style scoped>\n",
       "    .dataframe tbody tr th:only-of-type {\n",
       "        vertical-align: middle;\n",
       "    }\n",
       "\n",
       "    .dataframe tbody tr th {\n",
       "        vertical-align: top;\n",
       "    }\n",
       "\n",
       "    .dataframe thead th {\n",
       "        text-align: right;\n",
       "    }\n",
       "</style>\n",
       "<table border=\"1\" class=\"dataframe\">\n",
       "  <thead>\n",
       "    <tr style=\"text-align: right;\">\n",
       "      <th></th>\n",
       "      <th>percentil</th>\n",
       "      <th>agresivom</th>\n",
       "      <th>controlm</th>\n",
       "      <th>pasivom</th>\n",
       "    </tr>\n",
       "  </thead>\n",
       "  <tbody>\n",
       "    <tr>\n",
       "      <th>0</th>\n",
       "      <td>1</td>\n",
       "      <td>1</td>\n",
       "      <td>6</td>\n",
       "      <td>0</td>\n",
       "    </tr>\n",
       "    <tr>\n",
       "      <th>1</th>\n",
       "      <td>10</td>\n",
       "      <td>3</td>\n",
       "      <td>13</td>\n",
       "      <td>1</td>\n",
       "    </tr>\n",
       "    <tr>\n",
       "      <th>2</th>\n",
       "      <td>20</td>\n",
       "      <td>4</td>\n",
       "      <td>14</td>\n",
       "      <td>1</td>\n",
       "    </tr>\n",
       "    <tr>\n",
       "      <th>3</th>\n",
       "      <td>30</td>\n",
       "      <td>5</td>\n",
       "      <td>16</td>\n",
       "      <td>1</td>\n",
       "    </tr>\n",
       "    <tr>\n",
       "      <th>4</th>\n",
       "      <td>40</td>\n",
       "      <td>6</td>\n",
       "      <td>17</td>\n",
       "      <td>2</td>\n",
       "    </tr>\n",
       "  </tbody>\n",
       "</table>\n",
       "</div>"
      ],
      "text/plain": [
       "   percentil  agresivom  controlm  pasivom\n",
       "0          1          1         6        0\n",
       "1         10          3        13        1\n",
       "2         20          4        14        1\n",
       "3         30          5        16        1\n",
       "4         40          6        17        2"
      ]
     },
     "execution_count": 20,
     "metadata": {},
     "output_type": "execute_result"
    }
   ],
   "source": [
    "# La tabla de percentiles mujer\n",
    "tabla_percentiles_m = {\n",
    "    'percentil': [1, 10, 20, 30, 40, 50, 60, 70, 80, 90, 99,100],\n",
    "    'agresivom': [1, 3,   4, 5,   6, 7, 7, 9, 10, 15, 23,100],\n",
    "    'controlm':  [6, 13, 14, 16, 17, 18, 20, 21, 21, 23, 25,100],\n",
    "    'pasivom':   [0, 1,   1, 1,   2, 2, 3, 4, 6, 9, 13, 100]\n",
    "}\n",
    "\n",
    "df_percentiles_m = pd.DataFrame(tabla_percentiles_m)\n",
    "\n",
    "df_percentiles_m.head()"
   ]
  },
  {
   "cell_type": "markdown",
   "metadata": {},
   "source": []
  },
  {
   "cell_type": "markdown",
   "metadata": {},
   "source": []
  },
  {
   "cell_type": "code",
   "execution_count": 21,
   "metadata": {},
   "outputs": [
    {
     "data": {
      "text/html": [
       "<div>\n",
       "<style scoped>\n",
       "    .dataframe tbody tr th:only-of-type {\n",
       "        vertical-align: middle;\n",
       "    }\n",
       "\n",
       "    .dataframe tbody tr th {\n",
       "        vertical-align: top;\n",
       "    }\n",
       "\n",
       "    .dataframe thead th {\n",
       "        text-align: right;\n",
       "    }\n",
       "</style>\n",
       "<table border=\"1\" class=\"dataframe\">\n",
       "  <thead>\n",
       "    <tr style=\"text-align: right;\">\n",
       "      <th></th>\n",
       "      <th>percentil</th>\n",
       "      <th>agresivoV</th>\n",
       "      <th>controlV</th>\n",
       "      <th>pasivoV</th>\n",
       "    </tr>\n",
       "  </thead>\n",
       "  <tbody>\n",
       "    <tr>\n",
       "      <th>0</th>\n",
       "      <td>1</td>\n",
       "      <td>0</td>\n",
       "      <td>4</td>\n",
       "      <td>0</td>\n",
       "    </tr>\n",
       "    <tr>\n",
       "      <th>1</th>\n",
       "      <td>10</td>\n",
       "      <td>2</td>\n",
       "      <td>7</td>\n",
       "      <td>1</td>\n",
       "    </tr>\n",
       "    <tr>\n",
       "      <th>2</th>\n",
       "      <td>20</td>\n",
       "      <td>4</td>\n",
       "      <td>10</td>\n",
       "      <td>1</td>\n",
       "    </tr>\n",
       "    <tr>\n",
       "      <th>3</th>\n",
       "      <td>30</td>\n",
       "      <td>5</td>\n",
       "      <td>12</td>\n",
       "      <td>2</td>\n",
       "    </tr>\n",
       "    <tr>\n",
       "      <th>4</th>\n",
       "      <td>40</td>\n",
       "      <td>6</td>\n",
       "      <td>13</td>\n",
       "      <td>3</td>\n",
       "    </tr>\n",
       "  </tbody>\n",
       "</table>\n",
       "</div>"
      ],
      "text/plain": [
       "   percentil  agresivoV  controlV  pasivoV\n",
       "0          1          0         4        0\n",
       "1         10          2         7        1\n",
       "2         20          4        10        1\n",
       "3         30          5        12        2\n",
       "4         40          6        13        3"
      ]
     },
     "execution_count": 21,
     "metadata": {},
     "output_type": "execute_result"
    }
   ],
   "source": [
    "# La tabla de percentiles\n",
    "tabla_percentiles_v = {\n",
    "    'percentil': [1, 10, 20, 30, 40, 50, 60, 70, 80, 90, 99,100],\n",
    "    'agresivoV': [0, 2, 4, 5, 6, 7, 9, 13, 16, 18, 29,100],\n",
    "    'controlV': [4, 7, 10, 12, 13, 15, 18, 19, 21, 22, 25,100],\n",
    "    'pasivoV': [0, 1, 1, 2, 3, 4, 6, 9, 11, 13, 21, 100]\n",
    "}\n",
    "\n",
    "df_percentiles_v = pd.DataFrame(tabla_percentiles_v)\n",
    "\n",
    "df_percentiles_v.head()\n"
   ]
  },
  {
   "cell_type": "code",
   "execution_count": 29,
   "metadata": {},
   "outputs": [],
   "source": [
    "df_percentiles_ninos = pd.DataFrame({\n",
    "    'percentil': [1, 10, 20, 30, 40, 50, 60, 70, 80, 90, 99, 100],\n",
    "    'agresivoV': [0, 2, 4, 5, 6, 7, 9, 13, 16, 18, 29, 100],\n",
    "    'controlV': [4, 7, 10, 12, 13, 15, 18, 19, 21, 22, 25, 100],\n",
    "    'pasivoV': [0, 1, 1, 2, 3, 4, 6, 9, 11, 13, 21, 100]\n",
    "})\n",
    "\n",
    "df_percentiles_ninas = pd.DataFrame({\n",
    "    'percentil': [1, 10, 20, 30, 40, 50, 60, 70, 80, 90, 99, 100],\n",
    "    'agresivoV': [1, 3, 4, 5, 6, 7, 7, 9, 10, 15, 23, 100],\n",
    "    'controlV': [6, 13, 14, 16, 17, 18, 20, 21, 21, 23, 25, 100],\n",
    "    'pasivoV': [0, 1, 1, 1, 2, 2, 3, 4, 6, 9, 13, 100]\n",
    "})\n",
    "\n"
   ]
  },
  {
   "cell_type": "code",
   "execution_count": 42,
   "metadata": {},
   "outputs": [],
   "source": [
    "\n",
    "# Función para calcular el percentil interpolado\n",
    "def calcular_percentil_inter(valor, tipo_comportamiento, df_percentiles):\n",
    "    percentiles = df_percentiles[tipo_comportamiento].tolist()\n",
    "    valores = df_percentiles['percentil'].tolist()\n",
    "    \n",
    "    # Calcular el percentil interpolado\n",
    "    percentil = np.interp(valor, percentiles, valores)\n",
    "    \n",
    "    # Asegurarnos de que el percentil calculado esté dentro del rango [0, 100]\n",
    "    return max(0, min(100, percentil))"
   ]
  },
  {
   "cell_type": "code",
   "execution_count": 26,
   "metadata": {},
   "outputs": [
    {
     "name": "stdout",
     "output_type": "stream",
     "text": [
      "                    niño1  niño2  niña3  niña4  niña5  niño6  niña7  niña8  \\\n",
      "Asertivo               18     11     12      3      9      2      4     10   \n",
      "Pasivo                  8     11     13      6      4     10     16      7   \n",
      "Agresivo                5     13     12     35     25     34     20     17   \n",
      "Percentil_Asertivo     60     30     10      1     10      1      1     10   \n",
      "Percentil_Pasivo       70     80     99     80     70     80    100     90   \n",
      "Percentil_Agresivo     30     70     90    100    100    100     99     99   \n",
      "\n",
      "                    niño9  niña10  \n",
      "Asertivo               11       5  \n",
      "Pasivo                 19       5  \n",
      "Agresivo                6      32  \n",
      "Percentil_Asertivo     30       1  \n",
      "Percentil_Pasivo       99      80  \n",
      "Percentil_Agresivo     40     100  \n"
     ]
    }
   ],
   "source": [
    "# Creamos un nuevo DataFrame para almacenar los comportamientos clasificados y sus percentiles\n",
    "clasificado_percentiles = pd.DataFrame()\n",
    "\n",
    "# Función para calcular el percentil correspondiente\n",
    "# Función para calcular el percentil correspondiente, con manejo de valores faltantes\n",
    "def calcular_percentil(valor, tipo_comportamiento, df_percentiles):\n",
    "    percentil = df_percentiles[df_percentiles[tipo_comportamiento] >= valor]['percentil'].min()\n",
    "    return percentil if percentil is not None else 100  \n",
    "\n",
    "# Aplicamos la función de clasificación y cálculo de percentiles a cada columna del DataFrame final\n",
    "for column in df_final.columns:\n",
    "    genero = column[:4]  # Obtenemos los primeros 4 caracteres del nombre de la columna para determinar el género\n",
    "    \n",
    "    # Seleccionamos la tabla de percentiles correspondiente según el género\n",
    "    if genero == 'niño':\n",
    "        df_percentiles_genero = df_percentiles_ninos\n",
    "    else:\n",
    "        df_percentiles_genero = df_percentiles_ninas\n",
    "    \n",
    "    # Inicializamos los contadores de asertivo, pasivo y agresivo\n",
    "    asertivo = 0\n",
    "    pasivo = 0\n",
    "    agresivo = 0\n",
    "    \n",
    "    # Calculamos los contadores de comportamientos asertivos, pasivos y agresivos para cada sujeto\n",
    "    for item in df_final[column]:\n",
    "        if item == 0:\n",
    "            asertivo += 1\n",
    "        elif item > 0:\n",
    "            agresivo += item\n",
    "        else:\n",
    "            pasivo -= item\n",
    "    \n",
    "    # Calculamos los percentiles de asertividad, pasividad y agresividad utilizando las tablas de percentiles correspondientes\n",
    "    percentil_asertivo = calcular_percentil_inter(asertivo, 'controlV', df_percentiles_genero)\n",
    "    percentil_pasivo = calcular_percentil_inter(pasivo, 'pasivoV', df_percentiles_genero)\n",
    "    percentil_agresivo = calcular_percentil_inter(agresivo, 'agresivoV', df_percentiles_genero)\n",
    "    \n",
    "    # Guardamos los resultados en el DataFrame clasificado_percentiles\n",
    "    clasificado_percentiles[column] = [asertivo, pasivo, agresivo, percentil_asertivo, percentil_pasivo, percentil_agresivo]\n",
    "\n",
    "# Renombramos las filas del nuevo DataFrame\n",
    "clasificado_percentiles.index = ['Asertivo', 'Pasivo', 'Agresivo', 'Percentil_Asertivo', 'Percentil_Pasivo', 'Percentil_Agresivo']\n",
    "\n",
    "# Mostramos el DataFrame con los comportamientos clasificados y sus percentiles\n",
    "print(clasificado_percentiles)\n"
   ]
  },
  {
   "cell_type": "code",
   "execution_count": 39,
   "metadata": {},
   "outputs": [
    {
     "name": "stdout",
     "output_type": "stream",
     "text": [
      "                        niño1  niño2      niña3      niña4      niña5  \\\n",
      "Asertivo            18.000000   11.0  12.000000   3.000000   9.000000   \n",
      "Pasivo               8.000000   11.0  13.000000   6.000000   4.000000   \n",
      "Agresivo             5.000000   13.0  12.000000  35.000000  25.000000   \n",
      "Percentil_Asertivo  60.000000   25.0   8.714286   1.000000   4.857143   \n",
      "Percentil_Pasivo    66.666667   80.0  99.000000  80.000000  70.000000   \n",
      "Percentil_Agresivo  30.000000   70.0  84.000000  99.155844  99.025974   \n",
      "\n",
      "                        niño6      niña7      niña8  niño9     niña10  \n",
      "Asertivo             2.000000   4.000000  10.000000  11.00   5.000000  \n",
      "Pasivo              10.000000  16.000000   7.000000  19.00   5.000000  \n",
      "Agresivo            34.000000  20.000000  17.000000   6.00  32.000000  \n",
      "Percentil_Asertivo   1.000000   1.000000   6.142857  25.00   1.000000  \n",
      "Percentil_Pasivo    75.000000  99.034483  83.333333  96.75  75.000000  \n",
      "Percentil_Agresivo  99.070423  95.625000  92.250000  40.00  99.116883  \n"
     ]
    }
   ],
   "source": [
    "# Creamos un nuevo DataFrame para almacenar los comportamientos clasificados y sus percentiles\n",
    "clasificado_percentiles = pd.DataFrame()\n",
    "\n",
    "# Función para calcular el percentil correspondiente\n",
    "# Función para calcular el percentil correspondiente, con manejo de valores faltantes\n",
    "def calcular_percentil(valor, tipo_comportamiento, df_percentiles):\n",
    "    percentil = df_percentiles[df_percentiles[tipo_comportamiento] >= valor]['percentil'].min()\n",
    "    return percentil if percentil is not None else 100  \n",
    "\n",
    "# Aplicamos la función de clasificación y cálculo de percentiles a cada columna del DataFrame final\n",
    "for column in df_final.columns:\n",
    "    genero = column[:4]  # Obtenemos los primeros 4 caracteres del nombre de la columna para determinar el género\n",
    "    \n",
    "    # Seleccionamos la tabla de percentiles correspondiente según el género\n",
    "    if genero == 'niño':\n",
    "        df_percentiles_genero = df_percentiles_ninos\n",
    "    else:\n",
    "        df_percentiles_genero = df_percentiles_ninas\n",
    "    \n",
    "    # Inicializamos los contadores de asertivo, pasivo y agresivo\n",
    "    asertivo = 0\n",
    "    pasivo = 0\n",
    "    agresivo = 0\n",
    "    \n",
    "    # Calculamos los contadores de comportamientos asertivos, pasivos y agresivos para cada sujeto\n",
    "    for item in df_final[column]:\n",
    "        if item == 0:\n",
    "            asertivo += 1\n",
    "        elif item > 0:\n",
    "            agresivo += item\n",
    "        else:\n",
    "            pasivo -= item\n",
    "    \n",
    "    # Calculamos los percentiles de asertividad, pasividad y agresividad utilizando las tablas de percentiles correspondientes\n",
    "    percentil_asertivo = calcular_percentil_inter(asertivo, 'controlV', df_percentiles_genero)\n",
    "    percentil_pasivo = calcular_percentil_inter(pasivo, 'pasivoV', df_percentiles_genero)\n",
    "    percentil_agresivo = calcular_percentil_inter(agresivo, 'agresivoV', df_percentiles_genero)\n",
    "    \n",
    "    # Guardamos los resultados en el DataFrame clasificado_percentiles\n",
    "    clasificado_percentiles[column] = [asertivo, pasivo, agresivo, percentil_asertivo, percentil_pasivo, percentil_agresivo]\n",
    "\n",
    "# Renombramos las filas del nuevo DataFrame\n",
    "clasificado_percentiles.index = ['Asertivo', 'Pasivo', 'Agresivo', 'Percentil_Asertivo', 'Percentil_Pasivo', 'Percentil_Agresivo']\n",
    "\n",
    "# Mostramos el DataFrame con los comportamientos clasificados y sus percentiles\n",
    "print(clasificado_percentiles)"
   ]
  },
  {
   "cell_type": "code",
   "execution_count": 41,
   "metadata": {},
   "outputs": [],
   "source": [
    "# Exportar el DataFrame a un archivo CSV\n",
    "clasificado_percentiles.to_csv('resultados_clasificados_inter.csv', index=True)"
   ]
  },
  {
   "cell_type": "code",
   "execution_count": 47,
   "metadata": {},
   "outputs": [
    {
     "name": "stdout",
     "output_type": "stream",
     "text": [
      "             niño1  niño2  niña3  niña4  niña5  niño6  niña7  niña8  niño9  \\\n",
      "democratico     86     79     77     87     82     84     77     77     80   \n",
      "autoritario     35     39     50     36     45     43     35     28     44   \n",
      "permisivo       33     51     25     43     43     36     36     32     49   \n",
      "\n",
      "             niña10  \n",
      "democratico      78  \n",
      "autoritario      47  \n",
      "permisivo        47  \n"
     ]
    }
   ],
   "source": [
    "df_crianza = pd.read_csv('estilo_crianza2.csv')\n",
    "df_crianza.index = ['democratico','autoritario','permisivo']\n",
    "print (df_crianza)"
   ]
  },
  {
   "cell_type": "code",
   "execution_count": 54,
   "metadata": {},
   "outputs": [
    {
     "data": {
      "image/png": "[encoded data removed]",
      "text/plain": [
       "<Figure size 1000x600 with 1 Axes>"
      ]
     },
     "metadata": {},
     "output_type": "display_data"
    }
   ],
   "source": [
    "\n",
    "\n",
    "\n",
    "# Supongamos que tienes el DataFrame clasificado_percentiles que contiene los datos como lo has mencionado\n",
    "\n",
    "# Transponer el DataFrame para tener los estilos de crianza como índices y los niños como columnas\n",
    "df_transpuesto = clasificado_percentiles.transpose()\n",
    "\n",
    "# Gráfico de barras para visualizar los percentiles de agresividad para cada estilo de crianza\n",
    "plt.figure(figsize=(10, 6))\n",
    "sns.boxplot(data=df_transpuesto, x=df_transpuesto.index, y='Percentil_Agresivo')\n",
    "plt.title('Distribución de percentiles de agresividad por estilo de crianza')\n",
    "plt.xlabel('Estilo de crianza')\n",
    "plt.ylabel('Percentil Agresivo')\n",
    "plt.xticks(rotation=45)\n",
    "plt.grid(True)\n",
    "plt.show()"
   ]
  },
  {
   "cell_type": "code",
   "execution_count": 56,
   "metadata": {},
   "outputs": [
    {
     "ename": "KeyError",
     "evalue": "'Estilo de crianza'",
     "output_type": "error",
     "traceback": [
      "\u001b[0;31m---------------------------------------------------------------------------\u001b[0m",
      "\u001b[0;31mKeyError\u001b[0m                                  Traceback (most recent call last)",
      "File \u001b[0;32m~/work/git/raulcabs/.venv/lib/python3.11/site-packages/pandas/core/indexes/base.py:3805\u001b[0m, in \u001b[0;36mIndex.get_loc\u001b[0;34m(self, key)\u001b[0m\n\u001b[1;32m   3804\u001b[0m \u001b[39mtry\u001b[39;00m:\n\u001b[0;32m-> 3805\u001b[0m     \u001b[39mreturn\u001b[39;00m \u001b[39mself\u001b[39;49m\u001b[39m.\u001b[39;49m_engine\u001b[39m.\u001b[39;49mget_loc(casted_key)\n\u001b[1;32m   3806\u001b[0m \u001b[39mexcept\u001b[39;00m \u001b[39mKeyError\u001b[39;00m \u001b[39mas\u001b[39;00m err:\n",
      "File \u001b[0;32mindex.pyx:167\u001b[0m, in \u001b[0;36mpandas._libs.index.IndexEngine.get_loc\u001b[0;34m()\u001b[0m\n",
      "File \u001b[0;32mindex.pyx:196\u001b[0m, in \u001b[0;36mpandas._libs.index.IndexEngine.get_loc\u001b[0;34m()\u001b[0m\n",
      "File \u001b[0;32mpandas/_libs/hashtable_class_helper.pxi:7081\u001b[0m, in \u001b[0;36mpandas._libs.hashtable.PyObjectHashTable.get_item\u001b[0;34m()\u001b[0m\n",
      "File \u001b[0;32mpandas/_libs/hashtable_class_helper.pxi:7089\u001b[0m, in \u001b[0;36mpandas._libs.hashtable.PyObjectHashTable.get_item\u001b[0;34m()\u001b[0m\n",
      "\u001b[0;31mKeyError\u001b[0m: 'Estilo de crianza'",
      "\nThe above exception was the direct cause of the following exception:\n",
      "\u001b[0;31mKeyError\u001b[0m                                  Traceback (most recent call last)",
      "\u001b[1;32m/home/carlos/work/git/raulcabs/encuestas_CAB.ipynb Cell 17\u001b[0m line \u001b[0;36m2\n\u001b[1;32m      <a href='vscode-notebook-cell:/home/carlos/work/git/raulcabs/encuestas_CAB.ipynb#X21sZmlsZQ%3D%3D?line=0'>1</a>\u001b[0m \u001b[39m# Calcular el coeficiente de correlación entre el estilo de crianza y la agresividad\u001b[39;00m\n\u001b[0;32m----> <a href='vscode-notebook-cell:/home/carlos/work/git/raulcabs/encuestas_CAB.ipynb#X21sZmlsZQ%3D%3D?line=1'>2</a>\u001b[0m correlacion \u001b[39m=\u001b[39m df_transpuesto[\u001b[39m'\u001b[39m\u001b[39mPercentil_Agresivo\u001b[39m\u001b[39m'\u001b[39m]\u001b[39m.\u001b[39mcorr(df_transpuesto[\u001b[39m'\u001b[39;49m\u001b[39mEstilo de crianza\u001b[39;49m\u001b[39m'\u001b[39;49m])\n\u001b[1;32m      <a href='vscode-notebook-cell:/home/carlos/work/git/raulcabs/encuestas_CAB.ipynb#X21sZmlsZQ%3D%3D?line=3'>4</a>\u001b[0m \u001b[39mprint\u001b[39m(\u001b[39mf\u001b[39m\u001b[39m\"\u001b[39m\u001b[39mCoeficiente de correlación: \u001b[39m\u001b[39m{\u001b[39;00mcorrelacion\u001b[39m}\u001b[39;00m\u001b[39m\"\u001b[39m)\n",
      "File \u001b[0;32m~/work/git/raulcabs/.venv/lib/python3.11/site-packages/pandas/core/frame.py:4102\u001b[0m, in \u001b[0;36mDataFrame.__getitem__\u001b[0;34m(self, key)\u001b[0m\n\u001b[1;32m   4100\u001b[0m \u001b[39mif\u001b[39;00m \u001b[39mself\u001b[39m\u001b[39m.\u001b[39mcolumns\u001b[39m.\u001b[39mnlevels \u001b[39m>\u001b[39m \u001b[39m1\u001b[39m:\n\u001b[1;32m   4101\u001b[0m     \u001b[39mreturn\u001b[39;00m \u001b[39mself\u001b[39m\u001b[39m.\u001b[39m_getitem_multilevel(key)\n\u001b[0;32m-> 4102\u001b[0m indexer \u001b[39m=\u001b[39m \u001b[39mself\u001b[39;49m\u001b[39m.\u001b[39;49mcolumns\u001b[39m.\u001b[39;49mget_loc(key)\n\u001b[1;32m   4103\u001b[0m \u001b[39mif\u001b[39;00m is_integer(indexer):\n\u001b[1;32m   4104\u001b[0m     indexer \u001b[39m=\u001b[39m [indexer]\n",
      "File \u001b[0;32m~/work/git/raulcabs/.venv/lib/python3.11/site-packages/pandas/core/indexes/base.py:3812\u001b[0m, in \u001b[0;36mIndex.get_loc\u001b[0;34m(self, key)\u001b[0m\n\u001b[1;32m   3807\u001b[0m     \u001b[39mif\u001b[39;00m \u001b[39misinstance\u001b[39m(casted_key, \u001b[39mslice\u001b[39m) \u001b[39mor\u001b[39;00m (\n\u001b[1;32m   3808\u001b[0m         \u001b[39misinstance\u001b[39m(casted_key, abc\u001b[39m.\u001b[39mIterable)\n\u001b[1;32m   3809\u001b[0m         \u001b[39mand\u001b[39;00m \u001b[39many\u001b[39m(\u001b[39misinstance\u001b[39m(x, \u001b[39mslice\u001b[39m) \u001b[39mfor\u001b[39;00m x \u001b[39min\u001b[39;00m casted_key)\n\u001b[1;32m   3810\u001b[0m     ):\n\u001b[1;32m   3811\u001b[0m         \u001b[39mraise\u001b[39;00m InvalidIndexError(key)\n\u001b[0;32m-> 3812\u001b[0m     \u001b[39mraise\u001b[39;00m \u001b[39mKeyError\u001b[39;00m(key) \u001b[39mfrom\u001b[39;00m \u001b[39merr\u001b[39;00m\n\u001b[1;32m   3813\u001b[0m \u001b[39mexcept\u001b[39;00m \u001b[39mTypeError\u001b[39;00m:\n\u001b[1;32m   3814\u001b[0m     \u001b[39m# If we have a listlike key, _check_indexing_error will raise\u001b[39;00m\n\u001b[1;32m   3815\u001b[0m     \u001b[39m#  InvalidIndexError. Otherwise we fall through and re-raise\u001b[39;00m\n\u001b[1;32m   3816\u001b[0m     \u001b[39m#  the TypeError.\u001b[39;00m\n\u001b[1;32m   3817\u001b[0m     \u001b[39mself\u001b[39m\u001b[39m.\u001b[39m_check_indexing_error(key)\n",
      "\u001b[0;31mKeyError\u001b[0m: 'Estilo de crianza'"
     ]
    }
   ],
   "source": [
    "# Calcular el coeficiente de correlación entre el estilo de crianza y la agresividad\n",
    "correlacion = df_transpuesto['Percentil_Agresivo'].corr(df_transpuesto['Estilo de crianza'])\n",
    "\n",
    "print(f\"Coeficiente de correlación: {correlacion}\")"
   ]
  },
  {
   "cell_type": "code",
   "execution_count": 57,
   "metadata": {},
   "outputs": [
    {
     "name": "stdout",
     "output_type": "stream",
     "text": [
      "Index(['Asertivo', 'Pasivo', 'Agresivo', 'Percentil_Asertivo',\n",
      "       'Percentil_Pasivo', 'Percentil_Agresivo'],\n",
      "      dtype='object')\n"
     ]
    }
   ],
   "source": [
    "print(df_transpuesto.columns)"
   ]
  },
  {
   "cell_type": "code",
   "execution_count": 59,
   "metadata": {},
   "outputs": [
    {
     "data": {
      "image/png": "[encoded data removed]",
      "text/plain": [
       "<Figure size 1000x600 with 1 Axes>"
      ]
     },
     "metadata": {},
     "output_type": "display_data"
    }
   ],
   "source": [
    "\n",
    "# Transponer el DataFrame para tener los estilos de crianza como índices y los niños como columnas\n",
    "df_transpuesto = df_crianza.transpose()\n",
    "\n",
    "# Gráfico de caja para visualizar los niveles de agresividad para cada estilo de crianza\n",
    "plt.figure(figsize=(10, 6))\n",
    "sns.boxplot(data=df_transpuesto, palette=\"Set3\")\n",
    "plt.title('Distribución de niveles de agresividad por estilo de crianza')\n",
    "plt.xlabel('Estilo de crianza')\n",
    "plt.ylabel('Nivel de agresividad')\n",
    "plt.xticks(rotation=45)\n",
    "plt.grid(True)\n",
    "plt.show()\n"
   ]
  },
  {
   "cell_type": "code",
   "execution_count": null,
   "metadata": {},
   "outputs": [],
   "source": []
  },
  {
   "cell_type": "code",
   "execution_count": null,
   "metadata": {},
   "outputs": [],
   "source": []
  },
  {
   "cell_type": "code",
   "execution_count": null,
   "metadata": {},
   "outputs": [],
   "source": []
  },
  {
   "cell_type": "code",
   "execution_count": null,
   "metadata": {},
   "outputs": [],
   "source": []
  },
  {
   "cell_type": "code",
   "execution_count": null,
   "metadata": {},
   "outputs": [],
   "source": []
  },
  {
   "cell_type": "code",
   "execution_count": null,
   "metadata": {},
   "outputs": [],
   "source": []
  },
  {
   "cell_type": "code",
   "execution_count": null,
   "metadata": {},
   "outputs": [],
   "source": []
  },
  {
   "cell_type": "code",
   "execution_count": null,
   "metadata": {},
   "outputs": [],
   "source": []
  },
  {
   "cell_type": "code",
   "execution_count": null,
   "metadata": {},
   "outputs": [],
   "source": []
  },
  {
   "cell_type": "code",
   "execution_count": null,
   "metadata": {},
   "outputs": [],
   "source": []
  },
  {
   "cell_type": "code",
   "execution_count": null,
   "metadata": {},
   "outputs": [],
   "source": []
  },
  {
   "cell_type": "code",
   "execution_count": null,
   "metadata": {},
   "outputs": [],
   "source": []
  },
  {
   "cell_type": "code",
   "execution_count": null,
   "metadata": {},
   "outputs": [],
   "source": []
  },
  {
   "cell_type": "code",
   "execution_count": null,
   "metadata": {},
   "outputs": [],
   "source": []
  },
  {
   "cell_type": "code",
   "execution_count": null,
   "metadata": {},
   "outputs": [],
   "source": []
  },
  {
   "cell_type": "code",
   "execution_count": null,
   "metadata": {},
   "outputs": [],
   "source": []
  },
  {
   "cell_type": "code",
   "execution_count": null,
   "metadata": {},
   "outputs": [],
   "source": []
  },
  {
   "cell_type": "code",
   "execution_count": null,
   "metadata": {},
   "outputs": [],
   "source": []
  },
  {
   "cell_type": "code",
   "execution_count": null,
   "metadata": {},
   "outputs": [],
   "source": []
  },
  {
   "cell_type": "code",
   "execution_count": null,
   "metadata": {},
   "outputs": [],
   "source": []
  },
  {
   "cell_type": "code",
   "execution_count": null,
   "metadata": {},
   "outputs": [],
   "source": []
  },
  {
   "cell_type": "code",
   "execution_count": null,
   "metadata": {},
   "outputs": [],
   "source": []
  },
  {
   "cell_type": "code",
   "execution_count": null,
   "metadata": {},
   "outputs": [],
   "source": []
  },
  {
   "cell_type": "code",
   "execution_count": null,
   "metadata": {},
   "outputs": [],
   "source": []
  },
  {
   "cell_type": "code",
   "execution_count": null,
   "metadata": {},
   "outputs": [],
   "source": []
  },
  {
   "cell_type": "code",
   "execution_count": null,
   "metadata": {},
   "outputs": [],
   "source": []
  }
 ],
 "metadata": {
  "kernelspec": {
   "display_name": ".venv",
   "language": "python",
   "name": "python3"
  },
  "language_info": {
   "codemirror_mode": {
    "name": "ipython",
    "version": 3
   },
   "file_extension": ".py",
   "mimetype": "text/x-python",
   "name": "python",
   "nbconvert_exporter": "python",
   "pygments_lexer": "ipython3",
   "version": "3.11.9"
  }
 },
 "nbformat": 4,
 "nbformat_minor": 2
}
