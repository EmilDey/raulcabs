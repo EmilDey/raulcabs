{
 "cells": [
  {
   "cell_type": "code",
   "execution_count": 52,
   "metadata": {},
   "outputs": [],
   "source": [
    "import pandas as pd\n",
    "import numpy as np\n",
    "import matplotlib.pyplot as plt\n",
    "import seaborn as sns\n"
   ]
  },
  {
   "cell_type": "code",
   "execution_count": 16,
   "metadata": {},
   "outputs": [
    {
     "data": {
      "text/html": [
       "<div>\n",
       "<style scoped>\n",
       "    .dataframe tbody tr th:only-of-type {\n",
       "        vertical-align: middle;\n",
       "    }\n",
       "\n",
       "    .dataframe tbody tr th {\n",
       "        vertical-align: top;\n",
       "    }\n",
       "\n",
       "    .dataframe thead th {\n",
       "        text-align: right;\n",
       "    }\n",
       "</style>\n",
       "<table border=\"1\" class=\"dataframe\">\n",
       "  <thead>\n",
       "    <tr style=\"text-align: right;\">\n",
       "      <th></th>\n",
       "      <th>niño1</th>\n",
       "      <th>niño2</th>\n",
       "      <th>niña3</th>\n",
       "      <th>niña4</th>\n",
       "      <th>niña5</th>\n",
       "      <th>niño6</th>\n",
       "      <th>niña7</th>\n",
       "      <th>niña8</th>\n",
       "      <th>niño9</th>\n",
       "      <th>niña10</th>\n",
       "    </tr>\n",
       "  </thead>\n",
       "  <tbody>\n",
       "    <tr>\n",
       "      <th>22</th>\n",
       "      <td>e</td>\n",
       "      <td>b</td>\n",
       "      <td>d</td>\n",
       "      <td>d</td>\n",
       "      <td>d</td>\n",
       "      <td>d</td>\n",
       "      <td>d</td>\n",
       "      <td>d</td>\n",
       "      <td>e</td>\n",
       "      <td>d</td>\n",
       "    </tr>\n",
       "    <tr>\n",
       "      <th>23</th>\n",
       "      <td>a</td>\n",
       "      <td>a</td>\n",
       "      <td>e</td>\n",
       "      <td>e</td>\n",
       "      <td>e</td>\n",
       "      <td>e</td>\n",
       "      <td>c</td>\n",
       "      <td>e</td>\n",
       "      <td>a</td>\n",
       "      <td>c</td>\n",
       "    </tr>\n",
       "    <tr>\n",
       "      <th>24</th>\n",
       "      <td>a</td>\n",
       "      <td>b</td>\n",
       "      <td>b</td>\n",
       "      <td>d</td>\n",
       "      <td>d</td>\n",
       "      <td>d</td>\n",
       "      <td>d</td>\n",
       "      <td>e</td>\n",
       "      <td>c</td>\n",
       "      <td>d</td>\n",
       "    </tr>\n",
       "    <tr>\n",
       "      <th>25</th>\n",
       "      <td>b</td>\n",
       "      <td>b</td>\n",
       "      <td>e</td>\n",
       "      <td>b</td>\n",
       "      <td>b</td>\n",
       "      <td>b</td>\n",
       "      <td>a</td>\n",
       "      <td>a</td>\n",
       "      <td>e</td>\n",
       "      <td>a</td>\n",
       "    </tr>\n",
       "    <tr>\n",
       "      <th>26</th>\n",
       "      <td>d</td>\n",
       "      <td>b</td>\n",
       "      <td>b</td>\n",
       "      <td>c</td>\n",
       "      <td>c</td>\n",
       "      <td>a</td>\n",
       "      <td>a</td>\n",
       "      <td>a</td>\n",
       "      <td>d</td>\n",
       "      <td>a</td>\n",
       "    </tr>\n",
       "  </tbody>\n",
       "</table>\n",
       "</div>"
      ],
      "text/plain": [
       "   niño1 niño2 niña3 niña4 niña5 niño6 niña7 niña8 niño9 niña10\n",
       "22     e     b     d     d     d     d     d     d     e      d\n",
       "23     a     a     e     e     e     e     c     e     a      c\n",
       "24     a     b     b     d     d     d     d     e     c      d\n",
       "25     b     b     e     b     b     b     a     a     e      a\n",
       "26     d     b     b     c     c     a     a     a     d      a"
      ]
     },
     "execution_count": 16,
     "metadata": {},
     "output_type": "execute_result"
    }
   ],
   "source": [
    "correc_df = pd.read_csv('tabla_correccion.csv')\n",
    "tabla = correc_df.values\n",
    "sujetos = pd.read_csv('tabla_encuesta_asertividad.csv')\n",
    "percentil = pd.read_csv('tabla_percentil.csv')\n",
    "percentil.head()\n",
    "percentil_v = pd.read_csv('tabla_percentil_varon.csv')\n",
    "percentil_v.tail()\n",
    "percentil_m = pd.read_csv('tabla_percentil_mujer.csv')\n",
    "sujetos.tail()\n"
   ]
  },
  {
   "cell_type": "code",
   "execution_count": 17,
   "metadata": {},
   "outputs": [
    {
     "name": "stdout",
     "output_type": "stream",
     "text": [
      "Empty DataFrame\n",
      "Columns: [niño1, niño2, niña3, niña4, niña5, niño6, niña7, niña8, niño9, niña10]\n",
      "Index: []\n",
      "    niño1  niño2  niña3  niña4  niña5  niño6  niña7  niña8  niño9  niña10\n",
      "0       0      0      0     -2      0     -2      0      0      1      -2\n",
      "1       0     -2      0      0      0     -2      0      0      0       0\n",
      "2       0      2      2      2      0      2      2      0     -2       2\n",
      "3       0      1      0      2      2      1      2      2     -1       2\n",
      "4      -2      0      0      1      1      0      1     -2     -2       1\n",
      "5       0      0      0      2      1      2     -2      0      0       1\n",
      "6       0     -1      0      2      0      2     -1      1      1       0\n",
      "7       0      1      0     -2     -2     -2     -1      1      0      -2\n",
      "8       1      2      2      2      2      2      1     -1     -2       2\n",
      "9       1     -1     -1      1      0      2      2      0      1       0\n",
      "10      0      0      0      1      0     -1      0      0      0       0\n",
      "11      0      0      0      0      0     -2     -2      0      0       0\n",
      "12      0      0      2      2      2      2      1      1      0       2\n",
      "13      0     -2     -2      2      2      2     -1     -1     -2       2\n",
      "14     -2      2      2      2      2      2     -2      0     -2       2\n",
      "15      0     -1     -2      2      2      2     -2      1     -1       2\n",
      "16     -2      0      1      2      2      2      1      1     -2       2\n",
      "17      2      1     -1      1      1      2     -2     -2      2       2\n",
      "18      0      1     -2     -1      1      1      2      2      0       1\n",
      "19      0      0      0      2     -1      2     -2      2      0       2\n",
      "20      0      0      0      2      0      2      2      0      0       2\n",
      "21     -1     -2      0      1      1      1      0      1     -1       1\n",
      "22      1      2     -1     -1     -1     -1     -1     -1      1      -1\n",
      "23      0      0      2      2      2      2      1      2      0       1\n",
      "24     -1      1      1      2      2      2      2      0     -2       2\n",
      "25      0      0     -2      0      0      0      2      2     -2       2\n",
      "26      0     -2     -2      2      2      1      1      1      0       1\n"
     ]
    }
   ],
   "source": [
    "\n",
    "\n",
    "\n",
    "columna = 0\n",
    "suj = []\n",
    "lista = []\n",
    "numerico = pd.DataFrame(columns=sujetos.columns)\n",
    "print(numerico)\n",
    "\n",
    "for column in sujetos.columns[:]:\n",
    " \n",
    "    fila = 0\n",
    "    for items in sujetos[column]:\n",
    "        \n",
    "        #print (items)\n",
    "        match (items):\n",
    "            case \"a\":\n",
    "              lista.append (tabla[fila][0])  \n",
    "            case \"b\":\n",
    "              lista.append(tabla[fila][1])\n",
    "            case \"c\":\n",
    "               lista.append(tabla[fila][2])\n",
    "            case \"d\":\n",
    "               lista.append(tabla[fila][3])\n",
    "            case \"e\":\n",
    "              lista.append(tabla[fila][4])\n",
    "\n",
    "        fila +=1\n",
    "    #print (lista)\n",
    "\n",
    "    numerico[column] = lista\n",
    "    se = pd.Series(lista)\n",
    "   \n",
    "    lista.clear()\n",
    "    columna += 1\n",
    "\n",
    "df_encuesta = numerico\n",
    "numerico.head()\n",
    "print (numerico)\n"
   ]
  },
  {
   "cell_type": "code",
   "execution_count": 18,
   "metadata": {},
   "outputs": [
    {
     "name": "stdout",
     "output_type": "stream",
     "text": [
      "   niño1  niño2  niña3  niña4  niña5  niño6  niña7  niña8  niño9  niña10\n",
      "0     18     11     12      3      9      2      4     10     11       5\n",
      "1      8     11     13      6      4     10     16      7     19       5\n",
      "2      5     13     12     35     25     34     20     17      6      32\n"
     ]
    }
   ],
   "source": [
    "clasificado = pd.DataFrame(columns=sujetos.columns)\n",
    "\n",
    "\n",
    "for column in numerico.columns[:]:\n",
    "    asertivo=0\n",
    "    pasivo=0\n",
    "    agresivo=0\n",
    "    fila = 0\n",
    "    for items in numerico[column]:\n",
    "        if items == 0:\n",
    "            asertivo +=1\n",
    "        elif items >0 :\n",
    "            agresivo = agresivo + items\n",
    "        else :\n",
    "            pasivo -= items\n",
    "    clasificado[column] = [asertivo,pasivo,agresivo]\n",
    "print (clasificado)"
   ]
  },
  {
   "cell_type": "code",
   "execution_count": 19,
   "metadata": {},
   "outputs": [
    {
     "name": "stdout",
     "output_type": "stream",
     "text": [
      "          niño1  niño2  niña3  niña4  niña5  niño6  niña7  niña8  niño9  \\\n",
      "Asertivo     18     11     12      3      9      2      4     10     11   \n",
      "Pasivo        8     11     13      6      4     10     16      7     19   \n",
      "Agresivo      5     13     12     35     25     34     20     17      6   \n",
      "\n",
      "          niña10  \n",
      "Asertivo       5  \n",
      "Pasivo         5  \n",
      "Agresivo      32  \n"
     ]
    }
   ],
   "source": [
    "# Creamos un nuevo DataFrame para almacenar los comportamientos clasificados\n",
    "clasificado = pd.DataFrame()\n",
    "df_final = numerico\n",
    "\n",
    "# Aplicamos la función de clasificación a cada columna del DataFrame final\n",
    "for column in df_final.columns:\n",
    "    asertivo = 0\n",
    "    pasivo = 0\n",
    "    agresivo = 0\n",
    "    for item in df_final[column]:\n",
    "        if item == 0:\n",
    "            asertivo += 1\n",
    "        elif item > 0:\n",
    "            agresivo += item\n",
    "        else:\n",
    "            pasivo -= item\n",
    "    clasificado[column] = [asertivo, pasivo, agresivo]\n",
    "\n",
    "# Renombramos las filas del nuevo DataFrame\n",
    "clasificado.index = ['Asertivo', 'Pasivo', 'Agresivo']\n",
    "\n",
    "# Mostramos el DataFrame clasificado\n",
    "print(clasificado)\n",
    "\n",
    "clasificado.to_csv('resultados_crudo.csv', index=True)\n"
   ]
  },
  {
   "cell_type": "code",
   "execution_count": 20,
   "metadata": {},
   "outputs": [
    {
     "data": {
      "text/html": [
       "<div>\n",
       "<style scoped>\n",
       "    .dataframe tbody tr th:only-of-type {\n",
       "        vertical-align: middle;\n",
       "    }\n",
       "\n",
       "    .dataframe tbody tr th {\n",
       "        vertical-align: top;\n",
       "    }\n",
       "\n",
       "    .dataframe thead th {\n",
       "        text-align: right;\n",
       "    }\n",
       "</style>\n",
       "<table border=\"1\" class=\"dataframe\">\n",
       "  <thead>\n",
       "    <tr style=\"text-align: right;\">\n",
       "      <th></th>\n",
       "      <th>percentil</th>\n",
       "      <th>agresivom</th>\n",
       "      <th>controlm</th>\n",
       "      <th>pasivom</th>\n",
       "    </tr>\n",
       "  </thead>\n",
       "  <tbody>\n",
       "    <tr>\n",
       "      <th>0</th>\n",
       "      <td>1</td>\n",
       "      <td>1</td>\n",
       "      <td>6</td>\n",
       "      <td>0</td>\n",
       "    </tr>\n",
       "    <tr>\n",
       "      <th>1</th>\n",
       "      <td>10</td>\n",
       "      <td>3</td>\n",
       "      <td>13</td>\n",
       "      <td>1</td>\n",
       "    </tr>\n",
       "    <tr>\n",
       "      <th>2</th>\n",
       "      <td>20</td>\n",
       "      <td>4</td>\n",
       "      <td>14</td>\n",
       "      <td>1</td>\n",
       "    </tr>\n",
       "    <tr>\n",
       "      <th>3</th>\n",
       "      <td>30</td>\n",
       "      <td>5</td>\n",
       "      <td>16</td>\n",
       "      <td>1</td>\n",
       "    </tr>\n",
       "    <tr>\n",
       "      <th>4</th>\n",
       "      <td>40</td>\n",
       "      <td>6</td>\n",
       "      <td>17</td>\n",
       "      <td>2</td>\n",
       "    </tr>\n",
       "  </tbody>\n",
       "</table>\n",
       "</div>"
      ],
      "text/plain": [
       "   percentil  agresivom  controlm  pasivom\n",
       "0          1          1         6        0\n",
       "1         10          3        13        1\n",
       "2         20          4        14        1\n",
       "3         30          5        16        1\n",
       "4         40          6        17        2"
      ]
     },
     "execution_count": 20,
     "metadata": {},
     "output_type": "execute_result"
    }
   ],
   "source": [
    "# La tabla de percentiles mujer\n",
    "tabla_percentiles_m = {\n",
    "    'percentil': [1, 10, 20, 30, 40, 50, 60, 70, 80, 90, 99,100],\n",
    "    'agresivom': [1, 3,   4, 5,   6, 7, 7, 9, 10, 15, 23,100],\n",
    "    'controlm':  [6, 13, 14, 16, 17, 18, 20, 21, 21, 23, 25,100],\n",
    "    'pasivom':   [0, 1,   1, 1,   2, 2, 3, 4, 6, 9, 13, 100]\n",
    "}\n",
    "\n",
    "df_percentiles_m = pd.DataFrame(tabla_percentiles_m)\n",
    "\n",
    "df_percentiles_m.head()"
   ]
  },
  {
   "cell_type": "markdown",
   "metadata": {},
   "source": []
  },
  {
   "cell_type": "markdown",
   "metadata": {},
   "source": []
  },
  {
   "cell_type": "code",
   "execution_count": 21,
   "metadata": {},
   "outputs": [
    {
     "data": {
      "text/html": [
       "<div>\n",
       "<style scoped>\n",
       "    .dataframe tbody tr th:only-of-type {\n",
       "        vertical-align: middle;\n",
       "    }\n",
       "\n",
       "    .dataframe tbody tr th {\n",
       "        vertical-align: top;\n",
       "    }\n",
       "\n",
       "    .dataframe thead th {\n",
       "        text-align: right;\n",
       "    }\n",
       "</style>\n",
       "<table border=\"1\" class=\"dataframe\">\n",
       "  <thead>\n",
       "    <tr style=\"text-align: right;\">\n",
       "      <th></th>\n",
       "      <th>percentil</th>\n",
       "      <th>agresivoV</th>\n",
       "      <th>controlV</th>\n",
       "      <th>pasivoV</th>\n",
       "    </tr>\n",
       "  </thead>\n",
       "  <tbody>\n",
       "    <tr>\n",
       "      <th>0</th>\n",
       "      <td>1</td>\n",
       "      <td>0</td>\n",
       "      <td>4</td>\n",
       "      <td>0</td>\n",
       "    </tr>\n",
       "    <tr>\n",
       "      <th>1</th>\n",
       "      <td>10</td>\n",
       "      <td>2</td>\n",
       "      <td>7</td>\n",
       "      <td>1</td>\n",
       "    </tr>\n",
       "    <tr>\n",
       "      <th>2</th>\n",
       "      <td>20</td>\n",
       "      <td>4</td>\n",
       "      <td>10</td>\n",
       "      <td>1</td>\n",
       "    </tr>\n",
       "    <tr>\n",
       "      <th>3</th>\n",
       "      <td>30</td>\n",
       "      <td>5</td>\n",
       "      <td>12</td>\n",
       "      <td>2</td>\n",
       "    </tr>\n",
       "    <tr>\n",
       "      <th>4</th>\n",
       "      <td>40</td>\n",
       "      <td>6</td>\n",
       "      <td>13</td>\n",
       "      <td>3</td>\n",
       "    </tr>\n",
       "  </tbody>\n",
       "</table>\n",
       "</div>"
      ],
      "text/plain": [
       "   percentil  agresivoV  controlV  pasivoV\n",
       "0          1          0         4        0\n",
       "1         10          2         7        1\n",
       "2         20          4        10        1\n",
       "3         30          5        12        2\n",
       "4         40          6        13        3"
      ]
     },
     "execution_count": 21,
     "metadata": {},
     "output_type": "execute_result"
    }
   ],
   "source": [
    "# La tabla de percentiles\n",
    "tabla_percentiles_v = {\n",
    "    'percentil': [1, 10, 20, 30, 40, 50, 60, 70, 80, 90, 99,100],\n",
    "    'agresivoV': [0, 2, 4, 5, 6, 7, 9, 13, 16, 18, 29,100],\n",
    "    'controlV': [4, 7, 10, 12, 13, 15, 18, 19, 21, 22, 25,100],\n",
    "    'pasivoV': [0, 1, 1, 2, 3, 4, 6, 9, 11, 13, 21, 100]\n",
    "}\n",
    "\n",
    "df_percentiles_v = pd.DataFrame(tabla_percentiles_v)\n",
    "\n",
    "df_percentiles_v.head()\n"
   ]
  },
  {
   "cell_type": "code",
   "execution_count": 29,
   "metadata": {},
   "outputs": [],
   "source": [
    "df_percentiles_ninos = pd.DataFrame({\n",
    "    'percentil': [1, 10, 20, 30, 40, 50, 60, 70, 80, 90, 99, 100],\n",
    "    'agresivoV': [0, 2, 4, 5, 6, 7, 9, 13, 16, 18, 29, 100],\n",
    "    'controlV': [4, 7, 10, 12, 13, 15, 18, 19, 21, 22, 25, 100],\n",
    "    'pasivoV': [0, 1, 1, 2, 3, 4, 6, 9, 11, 13, 21, 100]\n",
    "})\n",
    "\n",
    "df_percentiles_ninas = pd.DataFrame({\n",
    "    'percentil': [1, 10, 20, 30, 40, 50, 60, 70, 80, 90, 99, 100],\n",
    "    'agresivoV': [1, 3, 4, 5, 6, 7, 7, 9, 10, 15, 23, 100],\n",
    "    'controlV': [6, 13, 14, 16, 17, 18, 20, 21, 21, 23, 25, 100],\n",
    "    'pasivoV': [0, 1, 1, 1, 2, 2, 3, 4, 6, 9, 13, 100]\n",
    "})\n",
    "\n"
   ]
  },
  {
   "cell_type": "code",
   "execution_count": 42,
   "metadata": {},
   "outputs": [],
   "source": [
    "\n",
    "# Función para calcular el percentil interpolado\n",
    "def calcular_percentil_inter(valor, tipo_comportamiento, df_percentiles):\n",
    "    percentiles = df_percentiles[tipo_comportamiento].tolist()\n",
    "    valores = df_percentiles['percentil'].tolist()\n",
    "    \n",
    "    # Calcular el percentil interpolado\n",
    "    percentil = np.interp(valor, percentiles, valores)\n",
    "    \n",
    "    # Asegurarnos de que el percentil calculado esté dentro del rango [0, 100]\n",
    "    return max(0, min(100, percentil))"
   ]
  },
  {
   "cell_type": "code",
   "execution_count": 26,
   "metadata": {},
   "outputs": [
    {
     "name": "stdout",
     "output_type": "stream",
     "text": [
      "                    niño1  niño2  niña3  niña4  niña5  niño6  niña7  niña8  \\\n",
      "Asertivo               18     11     12      3      9      2      4     10   \n",
      "Pasivo                  8     11     13      6      4     10     16      7   \n",
      "Agresivo                5     13     12     35     25     34     20     17   \n",
      "Percentil_Asertivo     60     30     10      1     10      1      1     10   \n",
      "Percentil_Pasivo       70     80     99     80     70     80    100     90   \n",
      "Percentil_Agresivo     30     70     90    100    100    100     99     99   \n",
      "\n",
      "                    niño9  niña10  \n",
      "Asertivo               11       5  \n",
      "Pasivo                 19       5  \n",
      "Agresivo                6      32  \n",
      "Percentil_Asertivo     30       1  \n",
      "Percentil_Pasivo       99      80  \n",
      "Percentil_Agresivo     40     100  \n"
     ]
    }
   ],
   "source": [
    "# Creamos un nuevo DataFrame para almacenar los comportamientos clasificados y sus percentiles\n",
    "clasificado_percentiles = pd.DataFrame()\n",
    "\n",
    "# Función para calcular el percentil correspondiente\n",
    "# Función para calcular el percentil correspondiente, con manejo de valores faltantes\n",
    "def calcular_percentil(valor, tipo_comportamiento, df_percentiles):\n",
    "    percentil = df_percentiles[df_percentiles[tipo_comportamiento] >= valor]['percentil'].min()\n",
    "    return percentil if percentil is not None else 100  \n",
    "\n",
    "# Aplicamos la función de clasificación y cálculo de percentiles a cada columna del DataFrame final\n",
    "for column in df_final.columns:\n",
    "    genero = column[:4]  # Obtenemos los primeros 4 caracteres del nombre de la columna para determinar el género\n",
    "    \n",
    "    # Seleccionamos la tabla de percentiles correspondiente según el género\n",
    "    if genero == 'niño':\n",
    "        df_percentiles_genero = df_percentiles_ninos\n",
    "    else:\n",
    "        df_percentiles_genero = df_percentiles_ninas\n",
    "    \n",
    "    # Inicializamos los contadores de asertivo, pasivo y agresivo\n",
    "    asertivo = 0\n",
    "    pasivo = 0\n",
    "    agresivo = 0\n",
    "    \n",
    "    # Calculamos los contadores de comportamientos asertivos, pasivos y agresivos para cada sujeto\n",
    "    for item in df_final[column]:\n",
    "        if item == 0:\n",
    "            asertivo += 1\n",
    "        elif item > 0:\n",
    "            agresivo += item\n",
    "        else:\n",
    "            pasivo -= item\n",
    "    \n",
    "    # Calculamos los percentiles de asertividad, pasividad y agresividad utilizando las tablas de percentiles correspondientes\n",
    "    percentil_asertivo = calcular_percentil_inter(asertivo, 'controlV', df_percentiles_genero)\n",
    "    percentil_pasivo = calcular_percentil_inter(pasivo, 'pasivoV', df_percentiles_genero)\n",
    "    percentil_agresivo = calcular_percentil_inter(agresivo, 'agresivoV', df_percentiles_genero)\n",
    "    \n",
    "    # Guardamos los resultados en el DataFrame clasificado_percentiles\n",
    "    clasificado_percentiles[column] = [asertivo, pasivo, agresivo, percentil_asertivo, percentil_pasivo, percentil_agresivo]\n",
    "\n",
    "# Renombramos las filas del nuevo DataFrame\n",
    "clasificado_percentiles.index = ['Asertivo', 'Pasivo', 'Agresivo', 'Percentil_Asertivo', 'Percentil_Pasivo', 'Percentil_Agresivo']\n",
    "\n",
    "# Mostramos el DataFrame con los comportamientos clasificados y sus percentiles\n",
    "print(clasificado_percentiles)\n"
   ]
  },
  {
   "cell_type": "code",
   "execution_count": 39,
   "metadata": {},
   "outputs": [
    {
     "name": "stdout",
     "output_type": "stream",
     "text": [
      "                        niño1  niño2      niña3      niña4      niña5  \\\n",
      "Asertivo            18.000000   11.0  12.000000   3.000000   9.000000   \n",
      "Pasivo               8.000000   11.0  13.000000   6.000000   4.000000   \n",
      "Agresivo             5.000000   13.0  12.000000  35.000000  25.000000   \n",
      "Percentil_Asertivo  60.000000   25.0   8.714286   1.000000   4.857143   \n",
      "Percentil_Pasivo    66.666667   80.0  99.000000  80.000000  70.000000   \n",
      "Percentil_Agresivo  30.000000   70.0  84.000000  99.155844  99.025974   \n",
      "\n",
      "                        niño6      niña7      niña8  niño9     niña10  \n",
      "Asertivo             2.000000   4.000000  10.000000  11.00   5.000000  \n",
      "Pasivo              10.000000  16.000000   7.000000  19.00   5.000000  \n",
      "Agresivo            34.000000  20.000000  17.000000   6.00  32.000000  \n",
      "Percentil_Asertivo   1.000000   1.000000   6.142857  25.00   1.000000  \n",
      "Percentil_Pasivo    75.000000  99.034483  83.333333  96.75  75.000000  \n",
      "Percentil_Agresivo  99.070423  95.625000  92.250000  40.00  99.116883  \n"
     ]
    }
   ],
   "source": [
    "# Creamos un nuevo DataFrame para almacenar los comportamientos clasificados y sus percentiles\n",
    "clasificado_percentiles = pd.DataFrame()\n",
    "\n",
    "# Función para calcular el percentil correspondiente\n",
    "# Función para calcular el percentil correspondiente, con manejo de valores faltantes\n",
    "def calcular_percentil(valor, tipo_comportamiento, df_percentiles):\n",
    "    percentil = df_percentiles[df_percentiles[tipo_comportamiento] >= valor]['percentil'].min()\n",
    "    return percentil if percentil is not None else 100  \n",
    "\n",
    "# Aplicamos la función de clasificación y cálculo de percentiles a cada columna del DataFrame final\n",
    "for column in df_final.columns:\n",
    "    genero = column[:4]  # Obtenemos los primeros 4 caracteres del nombre de la columna para determinar el género\n",
    "    \n",
    "    # Seleccionamos la tabla de percentiles correspondiente según el género\n",
    "    if genero == 'niño':\n",
    "        df_percentiles_genero = df_percentiles_ninos\n",
    "    else:\n",
    "        df_percentiles_genero = df_percentiles_ninas\n",
    "    \n",
    "    # Inicializamos los contadores de asertivo, pasivo y agresivo\n",
    "    asertivo = 0\n",
    "    pasivo = 0\n",
    "    agresivo = 0\n",
    "    \n",
    "    # Calculamos los contadores de comportamientos asertivos, pasivos y agresivos para cada sujeto\n",
    "    for item in df_final[column]:\n",
    "        if item == 0:\n",
    "            asertivo += 1\n",
    "        elif item > 0:\n",
    "            agresivo += item\n",
    "        else:\n",
    "            pasivo -= item\n",
    "    \n",
    "    # Calculamos los percentiles de asertividad, pasividad y agresividad utilizando las tablas de percentiles correspondientes\n",
    "    percentil_asertivo = calcular_percentil_inter(asertivo, 'controlV', df_percentiles_genero)\n",
    "    percentil_pasivo = calcular_percentil_inter(pasivo, 'pasivoV', df_percentiles_genero)\n",
    "    percentil_agresivo = calcular_percentil_inter(agresivo, 'agresivoV', df_percentiles_genero)\n",
    "    \n",
    "    # Guardamos los resultados en el DataFrame clasificado_percentiles\n",
    "    clasificado_percentiles[column] = [asertivo, pasivo, agresivo, percentil_asertivo, percentil_pasivo, percentil_agresivo]\n",
    "\n",
    "# Renombramos las filas del nuevo DataFrame\n",
    "clasificado_percentiles.index = ['Asertivo', 'Pasivo', 'Agresivo', 'Percentil_Asertivo', 'Percentil_Pasivo', 'Percentil_Agresivo']\n",
    "\n",
    "# Mostramos el DataFrame con los comportamientos clasificados y sus percentiles\n",
    "print(clasificado_percentiles)"
   ]
  },
  {
   "cell_type": "code",
   "execution_count": 41,
   "metadata": {},
   "outputs": [],
   "source": [
    "# Exportar el DataFrame a un archivo CSV\n",
    "clasificado_percentiles.to_csv('resultados_clasificados_inter.csv', index=True)"
   ]
  },
  {
   "cell_type": "code",
   "execution_count": 47,
   "metadata": {},
   "outputs": [
    {
     "name": "stdout",
     "output_type": "stream",
     "text": [
      "             niño1  niño2  niña3  niña4  niña5  niño6  niña7  niña8  niño9  \\\n",
      "democratico     86     79     77     87     82     84     77     77     80   \n",
      "autoritario     35     39     50     36     45     43     35     28     44   \n",
      "permisivo       33     51     25     43     43     36     36     32     49   \n",
      "\n",
      "             niña10  \n",
      "democratico      78  \n",
      "autoritario      47  \n",
      "permisivo        47  \n"
     ]
    }
   ],
   "source": [
    "df_crianza = pd.read_csv('estilo_crianza2.csv')\n",
    "df_crianza.index = ['democratico','autoritario','permisivo']\n",
    "print (df_crianza)"
   ]
  },
  {
   "cell_type": "code",
   "execution_count": 53,
   "metadata": {},
   "outputs": [
    {
     "ename": "ValueError",
     "evalue": "Could not interpret value `Percentil Agresivo` for `y`. An entry with this name does not appear in `data`.",
     "output_type": "error",
     "traceback": [
      "\u001b[0;31m---------------------------------------------------------------------------\u001b[0m",
      "\u001b[0;31mValueError\u001b[0m                                Traceback (most recent call last)",
      "\u001b[1;32m/home/carlos/work/git/raulcabs/encuestas_CAB.ipynb Cell 16\u001b[0m line \u001b[0;36m8\n\u001b[1;32m      <a href='vscode-notebook-cell:/home/carlos/work/git/raulcabs/encuestas_CAB.ipynb#X20sZmlsZQ%3D%3D?line=5'>6</a>\u001b[0m \u001b[39m# Gráfico de barras para visualizar los percentiles de agresividad para cada estilo de crianza\u001b[39;00m\n\u001b[1;32m      <a href='vscode-notebook-cell:/home/carlos/work/git/raulcabs/encuestas_CAB.ipynb#X20sZmlsZQ%3D%3D?line=6'>7</a>\u001b[0m plt\u001b[39m.\u001b[39mfigure(figsize\u001b[39m=\u001b[39m(\u001b[39m10\u001b[39m, \u001b[39m6\u001b[39m))\n\u001b[0;32m----> <a href='vscode-notebook-cell:/home/carlos/work/git/raulcabs/encuestas_CAB.ipynb#X20sZmlsZQ%3D%3D?line=7'>8</a>\u001b[0m sns\u001b[39m.\u001b[39;49mboxplot(data\u001b[39m=\u001b[39;49mdf_transpuesto, x\u001b[39m=\u001b[39;49mdf_transpuesto\u001b[39m.\u001b[39;49mindex, y\u001b[39m=\u001b[39;49m\u001b[39m'\u001b[39;49m\u001b[39mPercentil Agresivo\u001b[39;49m\u001b[39m'\u001b[39;49m)\n\u001b[1;32m      <a href='vscode-notebook-cell:/home/carlos/work/git/raulcabs/encuestas_CAB.ipynb#X20sZmlsZQ%3D%3D?line=8'>9</a>\u001b[0m plt\u001b[39m.\u001b[39mtitle(\u001b[39m'\u001b[39m\u001b[39mDistribución de percentiles de agresividad por estilo de crianza\u001b[39m\u001b[39m'\u001b[39m)\n\u001b[1;32m     <a href='vscode-notebook-cell:/home/carlos/work/git/raulcabs/encuestas_CAB.ipynb#X20sZmlsZQ%3D%3D?line=9'>10</a>\u001b[0m plt\u001b[39m.\u001b[39mxlabel(\u001b[39m'\u001b[39m\u001b[39mEstilo de crianza\u001b[39m\u001b[39m'\u001b[39m)\n",
      "File \u001b[0;32m~/work/git/raulcabs/.venv/lib/python3.11/site-packages/seaborn/categorical.py:1597\u001b[0m, in \u001b[0;36mboxplot\u001b[0;34m(data, x, y, hue, order, hue_order, orient, color, palette, saturation, fill, dodge, width, gap, whis, linecolor, linewidth, fliersize, hue_norm, native_scale, log_scale, formatter, legend, ax, **kwargs)\u001b[0m\n\u001b[1;32m   1589\u001b[0m \u001b[39mdef\u001b[39;00m \u001b[39mboxplot\u001b[39m(\n\u001b[1;32m   1590\u001b[0m     data\u001b[39m=\u001b[39m\u001b[39mNone\u001b[39;00m, \u001b[39m*\u001b[39m, x\u001b[39m=\u001b[39m\u001b[39mNone\u001b[39;00m, y\u001b[39m=\u001b[39m\u001b[39mNone\u001b[39;00m, hue\u001b[39m=\u001b[39m\u001b[39mNone\u001b[39;00m, order\u001b[39m=\u001b[39m\u001b[39mNone\u001b[39;00m, hue_order\u001b[39m=\u001b[39m\u001b[39mNone\u001b[39;00m,\n\u001b[1;32m   1591\u001b[0m     orient\u001b[39m=\u001b[39m\u001b[39mNone\u001b[39;00m, color\u001b[39m=\u001b[39m\u001b[39mNone\u001b[39;00m, palette\u001b[39m=\u001b[39m\u001b[39mNone\u001b[39;00m, saturation\u001b[39m=\u001b[39m\u001b[39m.75\u001b[39m, fill\u001b[39m=\u001b[39m\u001b[39mTrue\u001b[39;00m,\n\u001b[0;32m   (...)\u001b[0m\n\u001b[1;32m   1594\u001b[0m     legend\u001b[39m=\u001b[39m\u001b[39m\"\u001b[39m\u001b[39mauto\u001b[39m\u001b[39m\"\u001b[39m, ax\u001b[39m=\u001b[39m\u001b[39mNone\u001b[39;00m, \u001b[39m*\u001b[39m\u001b[39m*\u001b[39mkwargs\n\u001b[1;32m   1595\u001b[0m ):\n\u001b[0;32m-> 1597\u001b[0m     p \u001b[39m=\u001b[39m _CategoricalPlotter(\n\u001b[1;32m   1598\u001b[0m         data\u001b[39m=\u001b[39;49mdata,\n\u001b[1;32m   1599\u001b[0m         variables\u001b[39m=\u001b[39;49m\u001b[39mdict\u001b[39;49m(x\u001b[39m=\u001b[39;49mx, y\u001b[39m=\u001b[39;49my, hue\u001b[39m=\u001b[39;49mhue),\n\u001b[1;32m   1600\u001b[0m         order\u001b[39m=\u001b[39;49morder,\n\u001b[1;32m   1601\u001b[0m         orient\u001b[39m=\u001b[39;49morient,\n\u001b[1;32m   1602\u001b[0m         color\u001b[39m=\u001b[39;49mcolor,\n\u001b[1;32m   1603\u001b[0m         legend\u001b[39m=\u001b[39;49mlegend,\n\u001b[1;32m   1604\u001b[0m     )\n\u001b[1;32m   1606\u001b[0m     \u001b[39mif\u001b[39;00m ax \u001b[39mis\u001b[39;00m \u001b[39mNone\u001b[39;00m:\n\u001b[1;32m   1607\u001b[0m         ax \u001b[39m=\u001b[39m plt\u001b[39m.\u001b[39mgca()\n",
      "File \u001b[0;32m~/work/git/raulcabs/.venv/lib/python3.11/site-packages/seaborn/categorical.py:67\u001b[0m, in \u001b[0;36m_CategoricalPlotter.__init__\u001b[0;34m(self, data, variables, order, orient, require_numeric, color, legend)\u001b[0m\n\u001b[1;32m     56\u001b[0m \u001b[39mdef\u001b[39;00m \u001b[39m__init__\u001b[39m(\n\u001b[1;32m     57\u001b[0m     \u001b[39mself\u001b[39m,\n\u001b[1;32m     58\u001b[0m     data\u001b[39m=\u001b[39m\u001b[39mNone\u001b[39;00m,\n\u001b[0;32m   (...)\u001b[0m\n\u001b[1;32m     64\u001b[0m     legend\u001b[39m=\u001b[39m\u001b[39m\"\u001b[39m\u001b[39mauto\u001b[39m\u001b[39m\"\u001b[39m,\n\u001b[1;32m     65\u001b[0m ):\n\u001b[0;32m---> 67\u001b[0m     \u001b[39msuper\u001b[39;49m()\u001b[39m.\u001b[39;49m\u001b[39m__init__\u001b[39;49m(data\u001b[39m=\u001b[39;49mdata, variables\u001b[39m=\u001b[39;49mvariables)\n\u001b[1;32m     69\u001b[0m     \u001b[39m# This method takes care of some bookkeeping that is necessary because the\u001b[39;00m\n\u001b[1;32m     70\u001b[0m     \u001b[39m# original categorical plots (prior to the 2021 refactor) had some rules that\u001b[39;00m\n\u001b[1;32m     71\u001b[0m     \u001b[39m# don't fit exactly into VectorPlotter logic. It may be wise to have a second\u001b[39;00m\n\u001b[0;32m   (...)\u001b[0m\n\u001b[1;32m     76\u001b[0m     \u001b[39m# default VectorPlotter rules. If we do decide to make orient part of the\u001b[39;00m\n\u001b[1;32m     77\u001b[0m     \u001b[39m# _base variable assignment, we'll want to figure out how to express that.\u001b[39;00m\n\u001b[1;32m     78\u001b[0m     \u001b[39mif\u001b[39;00m \u001b[39mself\u001b[39m\u001b[39m.\u001b[39minput_format \u001b[39m==\u001b[39m \u001b[39m\"\u001b[39m\u001b[39mwide\u001b[39m\u001b[39m\"\u001b[39m \u001b[39mand\u001b[39;00m orient \u001b[39min\u001b[39;00m [\u001b[39m\"\u001b[39m\u001b[39mh\u001b[39m\u001b[39m\"\u001b[39m, \u001b[39m\"\u001b[39m\u001b[39my\u001b[39m\u001b[39m\"\u001b[39m]:\n",
      "File \u001b[0;32m~/work/git/raulcabs/.venv/lib/python3.11/site-packages/seaborn/_base.py:634\u001b[0m, in \u001b[0;36mVectorPlotter.__init__\u001b[0;34m(self, data, variables)\u001b[0m\n\u001b[1;32m    629\u001b[0m \u001b[39m# var_ordered is relevant only for categorical axis variables, and may\u001b[39;00m\n\u001b[1;32m    630\u001b[0m \u001b[39m# be better handled by an internal axis information object that tracks\u001b[39;00m\n\u001b[1;32m    631\u001b[0m \u001b[39m# such information and is set up by the scale_* methods. The analogous\u001b[39;00m\n\u001b[1;32m    632\u001b[0m \u001b[39m# information for numeric axes would be information about log scales.\u001b[39;00m\n\u001b[1;32m    633\u001b[0m \u001b[39mself\u001b[39m\u001b[39m.\u001b[39m_var_ordered \u001b[39m=\u001b[39m {\u001b[39m\"\u001b[39m\u001b[39mx\u001b[39m\u001b[39m\"\u001b[39m: \u001b[39mFalse\u001b[39;00m, \u001b[39m\"\u001b[39m\u001b[39my\u001b[39m\u001b[39m\"\u001b[39m: \u001b[39mFalse\u001b[39;00m}  \u001b[39m# alt., used DefaultDict\u001b[39;00m\n\u001b[0;32m--> 634\u001b[0m \u001b[39mself\u001b[39;49m\u001b[39m.\u001b[39;49massign_variables(data, variables)\n\u001b[1;32m    636\u001b[0m \u001b[39m# TODO Lots of tests assume that these are called to initialize the\u001b[39;00m\n\u001b[1;32m    637\u001b[0m \u001b[39m# mappings to default values on class initialization. I'd prefer to\u001b[39;00m\n\u001b[1;32m    638\u001b[0m \u001b[39m# move away from that and only have a mapping when explicitly called.\u001b[39;00m\n\u001b[1;32m    639\u001b[0m \u001b[39mfor\u001b[39;00m var \u001b[39min\u001b[39;00m [\u001b[39m\"\u001b[39m\u001b[39mhue\u001b[39m\u001b[39m\"\u001b[39m, \u001b[39m\"\u001b[39m\u001b[39msize\u001b[39m\u001b[39m\"\u001b[39m, \u001b[39m\"\u001b[39m\u001b[39mstyle\u001b[39m\u001b[39m\"\u001b[39m]:\n",
      "File \u001b[0;32m~/work/git/raulcabs/.venv/lib/python3.11/site-packages/seaborn/_base.py:679\u001b[0m, in \u001b[0;36mVectorPlotter.assign_variables\u001b[0;34m(self, data, variables)\u001b[0m\n\u001b[1;32m    674\u001b[0m \u001b[39melse\u001b[39;00m:\n\u001b[1;32m    675\u001b[0m     \u001b[39m# When dealing with long-form input, use the newer PlotData\u001b[39;00m\n\u001b[1;32m    676\u001b[0m     \u001b[39m# object (internal but introduced for the objects interface)\u001b[39;00m\n\u001b[1;32m    677\u001b[0m     \u001b[39m# to centralize / standardize data consumption logic.\u001b[39;00m\n\u001b[1;32m    678\u001b[0m     \u001b[39mself\u001b[39m\u001b[39m.\u001b[39minput_format \u001b[39m=\u001b[39m \u001b[39m\"\u001b[39m\u001b[39mlong\u001b[39m\u001b[39m\"\u001b[39m\n\u001b[0;32m--> 679\u001b[0m     plot_data \u001b[39m=\u001b[39m PlotData(data, variables)\n\u001b[1;32m    680\u001b[0m     frame \u001b[39m=\u001b[39m plot_data\u001b[39m.\u001b[39mframe\n\u001b[1;32m    681\u001b[0m     names \u001b[39m=\u001b[39m plot_data\u001b[39m.\u001b[39mnames\n",
      "File \u001b[0;32m~/work/git/raulcabs/.venv/lib/python3.11/site-packages/seaborn/_core/data.py:58\u001b[0m, in \u001b[0;36mPlotData.__init__\u001b[0;34m(self, data, variables)\u001b[0m\n\u001b[1;32m     51\u001b[0m \u001b[39mdef\u001b[39;00m \u001b[39m__init__\u001b[39m(\n\u001b[1;32m     52\u001b[0m     \u001b[39mself\u001b[39m,\n\u001b[1;32m     53\u001b[0m     data: DataSource,\n\u001b[1;32m     54\u001b[0m     variables: \u001b[39mdict\u001b[39m[\u001b[39mstr\u001b[39m, VariableSpec],\n\u001b[1;32m     55\u001b[0m ):\n\u001b[1;32m     57\u001b[0m     data \u001b[39m=\u001b[39m handle_data_source(data)\n\u001b[0;32m---> 58\u001b[0m     frame, names, ids \u001b[39m=\u001b[39m \u001b[39mself\u001b[39;49m\u001b[39m.\u001b[39;49m_assign_variables(data, variables)\n\u001b[1;32m     60\u001b[0m     \u001b[39mself\u001b[39m\u001b[39m.\u001b[39mframe \u001b[39m=\u001b[39m frame\n\u001b[1;32m     61\u001b[0m     \u001b[39mself\u001b[39m\u001b[39m.\u001b[39mnames \u001b[39m=\u001b[39m names\n",
      "File \u001b[0;32m~/work/git/raulcabs/.venv/lib/python3.11/site-packages/seaborn/_core/data.py:232\u001b[0m, in \u001b[0;36mPlotData._assign_variables\u001b[0;34m(self, data, variables)\u001b[0m\n\u001b[1;32m    230\u001b[0m     \u001b[39melse\u001b[39;00m:\n\u001b[1;32m    231\u001b[0m         err \u001b[39m+\u001b[39m\u001b[39m=\u001b[39m \u001b[39m\"\u001b[39m\u001b[39mAn entry with this name does not appear in `data`.\u001b[39m\u001b[39m\"\u001b[39m\n\u001b[0;32m--> 232\u001b[0m     \u001b[39mraise\u001b[39;00m \u001b[39mValueError\u001b[39;00m(err)\n\u001b[1;32m    234\u001b[0m \u001b[39melse\u001b[39;00m:\n\u001b[1;32m    235\u001b[0m \n\u001b[1;32m    236\u001b[0m     \u001b[39m# Otherwise, assume the value somehow represents data\u001b[39;00m\n\u001b[1;32m    237\u001b[0m \n\u001b[1;32m    238\u001b[0m     \u001b[39m# Ignore empty data structures\u001b[39;00m\n\u001b[1;32m    239\u001b[0m     \u001b[39mif\u001b[39;00m \u001b[39misinstance\u001b[39m(val, Sized) \u001b[39mand\u001b[39;00m \u001b[39mlen\u001b[39m(val) \u001b[39m==\u001b[39m \u001b[39m0\u001b[39m:\n",
      "\u001b[0;31mValueError\u001b[0m: Could not interpret value `Percentil Agresivo` for `y`. An entry with this name does not appear in `data`."
     ]
    },
    {
     "data": {
      "text/plain": [
       "<Figure size 1000x600 with 0 Axes>"
      ]
     },
     "metadata": {},
     "output_type": "display_data"
    }
   ],
   "source": [
    "\n",
    "\n",
    "\n",
    "# Supongamos que tienes el DataFrame clasificado_percentiles que contiene los datos como lo has mencionado\n",
    "\n",
    "# Transponer el DataFrame para tener los estilos de crianza como índices y los niños como columnas\n",
    "df_transpuesto = clasificado_percentiles.transpose()\n",
    "\n",
    "# Gráfico de barras para visualizar los percentiles de agresividad para cada estilo de crianza\n",
    "plt.figure(figsize=(10, 6))\n",
    "sns.boxplot(data=df_transpuesto, x=df_transpuesto.index, y='Percentil_Agresivo')\n",
    "plt.title('Distribución de percentiles de agresividad por estilo de crianza')\n",
    "plt.xlabel('Estilo de crianza')\n",
    "plt.ylabel('Percentil Agresivo')\n",
    "plt.xticks(rotation=45)\n",
    "plt.grid(True)\n",
    "plt.show()"
   ]
  },
  {
   "cell_type": "code",
   "execution_count": null,
   "metadata": {},
   "outputs": [],
   "source": []
  },
  {
   "cell_type": "code",
   "execution_count": null,
   "metadata": {},
   "outputs": [],
   "source": []
  },
  {
   "cell_type": "code",
   "execution_count": null,
   "metadata": {},
   "outputs": [],
   "source": []
  },
  {
   "cell_type": "code",
   "execution_count": null,
   "metadata": {},
   "outputs": [],
   "source": []
  },
  {
   "cell_type": "code",
   "execution_count": null,
   "metadata": {},
   "outputs": [],
   "source": []
  },
  {
   "cell_type": "code",
   "execution_count": null,
   "metadata": {},
   "outputs": [],
   "source": []
  },
  {
   "cell_type": "code",
   "execution_count": null,
   "metadata": {},
   "outputs": [],
   "source": []
  },
  {
   "cell_type": "code",
   "execution_count": null,
   "metadata": {},
   "outputs": [],
   "source": []
  },
  {
   "cell_type": "code",
   "execution_count": null,
   "metadata": {},
   "outputs": [],
   "source": []
  },
  {
   "cell_type": "code",
   "execution_count": null,
   "metadata": {},
   "outputs": [],
   "source": []
  },
  {
   "cell_type": "code",
   "execution_count": null,
   "metadata": {},
   "outputs": [],
   "source": []
  },
  {
   "cell_type": "code",
   "execution_count": null,
   "metadata": {},
   "outputs": [],
   "source": []
  },
  {
   "cell_type": "code",
   "execution_count": null,
   "metadata": {},
   "outputs": [],
   "source": []
  },
  {
   "cell_type": "code",
   "execution_count": null,
   "metadata": {},
   "outputs": [],
   "source": []
  },
  {
   "cell_type": "code",
   "execution_count": null,
   "metadata": {},
   "outputs": [],
   "source": []
  },
  {
   "cell_type": "code",
   "execution_count": null,
   "metadata": {},
   "outputs": [],
   "source": []
  },
  {
   "cell_type": "code",
   "execution_count": null,
   "metadata": {},
   "outputs": [],
   "source": []
  },
  {
   "cell_type": "code",
   "execution_count": null,
   "metadata": {},
   "outputs": [],
   "source": []
  },
  {
   "cell_type": "code",
   "execution_count": null,
   "metadata": {},
   "outputs": [],
   "source": []
  },
  {
   "cell_type": "code",
   "execution_count": null,
   "metadata": {},
   "outputs": [],
   "source": []
  },
  {
   "cell_type": "code",
   "execution_count": null,
   "metadata": {},
   "outputs": [],
   "source": []
  },
  {
   "cell_type": "code",
   "execution_count": null,
   "metadata": {},
   "outputs": [],
   "source": []
  },
  {
   "cell_type": "code",
   "execution_count": null,
   "metadata": {},
   "outputs": [],
   "source": []
  },
  {
   "cell_type": "code",
   "execution_count": null,
   "metadata": {},
   "outputs": [],
   "source": []
  },
  {
   "cell_type": "code",
   "execution_count": null,
   "metadata": {},
   "outputs": [],
   "source": []
  },
  {
   "cell_type": "code",
   "execution_count": null,
   "metadata": {},
   "outputs": [],
   "source": []
  },
  {
   "cell_type": "code",
   "execution_count": null,
   "metadata": {},
   "outputs": [],
   "source": []
  },
  {
   "cell_type": "code",
   "execution_count": null,
   "metadata": {},
   "outputs": [],
   "source": []
  },
  {
   "cell_type": "code",
   "execution_count": null,
   "metadata": {},
   "outputs": [],
   "source": []
  }
 ],
 "metadata": {
  "kernelspec": {
   "display_name": ".venv",
   "language": "python",
   "name": "python3"
  },
  "language_info": {
   "codemirror_mode": {
    "name": "ipython",
    "version": 3
   },
   "file_extension": ".py",
   "mimetype": "text/x-python",
   "name": "python",
   "nbconvert_exporter": "python",
   "pygments_lexer": "ipython3",
   "version": "3.11.9"
  }
 },
 "nbformat": 4,
 "nbformat_minor": 2
}
