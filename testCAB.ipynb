{
 "cells": [
  {
   "cell_type": "code",
   "execution_count": 2,
   "metadata": {},
   "outputs": [],
   "source": [
    "import pandas as pd\n",
    "import numpy as np\n"
   ]
  },
  {
   "cell_type": "code",
   "execution_count": 6,
   "metadata": {},
   "outputs": [
    {
     "data": {
      "text/html": [
       "<div>\n",
       "<style scoped>\n",
       "    .dataframe tbody tr th:only-of-type {\n",
       "        vertical-align: middle;\n",
       "    }\n",
       "\n",
       "    .dataframe tbody tr th {\n",
       "        vertical-align: top;\n",
       "    }\n",
       "\n",
       "    .dataframe thead th {\n",
       "        text-align: right;\n",
       "    }\n",
       "</style>\n",
       "<table border=\"1\" class=\"dataframe\">\n",
       "  <thead>\n",
       "    <tr style=\"text-align: right;\">\n",
       "      <th></th>\n",
       "      <th>percentil</th>\n",
       "      <th>agresivoV</th>\n",
       "      <th>controlV</th>\n",
       "      <th>pasivoV</th>\n",
       "    </tr>\n",
       "  </thead>\n",
       "  <tbody>\n",
       "    <tr>\n",
       "      <th>7</th>\n",
       "      <td>70</td>\n",
       "      <td>13</td>\n",
       "      <td>19</td>\n",
       "      <td>9</td>\n",
       "    </tr>\n",
       "    <tr>\n",
       "      <th>8</th>\n",
       "      <td>80</td>\n",
       "      <td>16</td>\n",
       "      <td>21</td>\n",
       "      <td>11</td>\n",
       "    </tr>\n",
       "    <tr>\n",
       "      <th>9</th>\n",
       "      <td>90</td>\n",
       "      <td>18</td>\n",
       "      <td>22</td>\n",
       "      <td>13</td>\n",
       "    </tr>\n",
       "    <tr>\n",
       "      <th>10</th>\n",
       "      <td>99</td>\n",
       "      <td>29</td>\n",
       "      <td>25</td>\n",
       "      <td>21</td>\n",
       "    </tr>\n",
       "    <tr>\n",
       "      <th>11</th>\n",
       "      <td>100</td>\n",
       "      <td>100</td>\n",
       "      <td>100</td>\n",
       "      <td>100</td>\n",
       "    </tr>\n",
       "  </tbody>\n",
       "</table>\n",
       "</div>"
      ],
      "text/plain": [
       "    percentil  agresivoV  controlV  pasivoV\n",
       "7          70         13        19        9\n",
       "8          80         16        21       11\n",
       "9          90         18        22       13\n",
       "10         99         29        25       21\n",
       "11        100        100       100      100"
      ]
     },
     "execution_count": 6,
     "metadata": {},
     "output_type": "execute_result"
    }
   ],
   "source": [
    "correc_df = pd.read_csv('tabla_correccion.csv')\n",
    "tabla = correc_df.values\n",
    "\n",
    "\n",
    "sujetos = pd.read_csv('tabla_resultados.csv')\n",
    "\n",
    "\n",
    "percentil = pd.read_csv('tabla_percentil.csv')\n",
    "sujetos.head()\n",
    "\n",
    "percentil = pd.read_csv('tabla_percentil.csv')\n",
    "percentil.head()\n",
    "percentil_v = pd.read_csv('tabla_percentil_varon.csv')\n",
    "percentil_v.tail()"
   ]
  },
  {
   "cell_type": "code",
   "execution_count": 7,
   "metadata": {},
   "outputs": [
    {
     "name": "stdout",
     "output_type": "stream",
     "text": [
      "Empty DataFrame\n",
      "Columns: [Suje1, Suje2, Suje3, Suje4]\n",
      "Index: []\n"
     ]
    },
    {
     "data": {
      "text/html": [
       "<div>\n",
       "<style scoped>\n",
       "    .dataframe tbody tr th:only-of-type {\n",
       "        vertical-align: middle;\n",
       "    }\n",
       "\n",
       "    .dataframe tbody tr th {\n",
       "        vertical-align: top;\n",
       "    }\n",
       "\n",
       "    .dataframe thead th {\n",
       "        text-align: right;\n",
       "    }\n",
       "</style>\n",
       "<table border=\"1\" class=\"dataframe\">\n",
       "  <thead>\n",
       "    <tr style=\"text-align: right;\">\n",
       "      <th></th>\n",
       "      <th>Suje1</th>\n",
       "      <th>Suje2</th>\n",
       "      <th>Suje3</th>\n",
       "      <th>Suje4</th>\n",
       "    </tr>\n",
       "  </thead>\n",
       "  <tbody>\n",
       "    <tr>\n",
       "      <th>0</th>\n",
       "      <td>-2</td>\n",
       "      <td>2</td>\n",
       "      <td>-2</td>\n",
       "      <td>-2</td>\n",
       "    </tr>\n",
       "    <tr>\n",
       "      <th>1</th>\n",
       "      <td>-1</td>\n",
       "      <td>1</td>\n",
       "      <td>-1</td>\n",
       "      <td>-2</td>\n",
       "    </tr>\n",
       "    <tr>\n",
       "      <th>2</th>\n",
       "      <td>2</td>\n",
       "      <td>0</td>\n",
       "      <td>0</td>\n",
       "      <td>-1</td>\n",
       "    </tr>\n",
       "    <tr>\n",
       "      <th>3</th>\n",
       "      <td>1</td>\n",
       "      <td>-2</td>\n",
       "      <td>1</td>\n",
       "      <td>-2</td>\n",
       "    </tr>\n",
       "    <tr>\n",
       "      <th>4</th>\n",
       "      <td>0</td>\n",
       "      <td>-1</td>\n",
       "      <td>2</td>\n",
       "      <td>-1</td>\n",
       "    </tr>\n",
       "  </tbody>\n",
       "</table>\n",
       "</div>"
      ],
      "text/plain": [
       "   Suje1  Suje2  Suje3  Suje4\n",
       "0     -2      2     -2     -2\n",
       "1     -1      1     -1     -2\n",
       "2      2      0      0     -1\n",
       "3      1     -2      1     -2\n",
       "4      0     -1      2     -1"
      ]
     },
     "execution_count": 7,
     "metadata": {},
     "output_type": "execute_result"
    }
   ],
   "source": [
    "\n",
    "\n",
    "\n",
    "columna = 0\n",
    "suj = []\n",
    "lista = []\n",
    "numerico = pd.DataFrame(columns=sujetos.columns)\n",
    "print(numerico)\n",
    "\n",
    "for column in sujetos.columns[:]:\n",
    " \n",
    "    fila = 0\n",
    "    for items in sujetos[column]:\n",
    "        \n",
    "        #print (items)\n",
    "        match (items):\n",
    "            case \"A\":\n",
    "              lista.append (tabla[fila][0])  \n",
    "            case \"B\":\n",
    "              lista.append(tabla[fila][1])\n",
    "            case \"C\":\n",
    "               lista.append(tabla[fila][2])\n",
    "            case \"D\":\n",
    "               lista.append(tabla[fila][3])\n",
    "            case \"E\":\n",
    "              lista.append(tabla[fila][4])\n",
    "\n",
    "        fila +=1\n",
    "    #print (lista)\n",
    "\n",
    "    numerico[column] = lista\n",
    "    se = pd.Series(lista)\n",
    "   \n",
    "    lista.clear()\n",
    "    columna += 1\n",
    "numerico.head()\n",
    "\n"
   ]
  },
  {
   "cell_type": "code",
   "execution_count": 8,
   "metadata": {},
   "outputs": [
    {
     "name": "stdout",
     "output_type": "stream",
     "text": [
      "   Suje1  Suje2  Suje3  Suje4\n",
      "0      5      5     11      9\n",
      "1     18     17     18     22\n",
      "2     16     18      8      0\n"
     ]
    }
   ],
   "source": [
    "clasificado = pd.DataFrame(columns=sujetos.columns)\n",
    "\n",
    "\n",
    "for column in numerico.columns[:]:\n",
    "    asertivo=0\n",
    "    pasivo=0\n",
    "    agresivo=0\n",
    "    fila = 0\n",
    "    for items in numerico[column]:\n",
    "        if items == 0:\n",
    "            asertivo +=1\n",
    "        elif items >0 :\n",
    "            agresivo = agresivo + items\n",
    "        else :\n",
    "            pasivo -= items\n",
    "    clasificado[column] = [asertivo,pasivo,agresivo]\n",
    "print (clasificado)"
   ]
  },
  {
   "cell_type": "code",
   "execution_count": 9,
   "metadata": {},
   "outputs": [
    {
     "data": {
      "text/html": [
       "<div>\n",
       "<style scoped>\n",
       "    .dataframe tbody tr th:only-of-type {\n",
       "        vertical-align: middle;\n",
       "    }\n",
       "\n",
       "    .dataframe tbody tr th {\n",
       "        vertical-align: top;\n",
       "    }\n",
       "\n",
       "    .dataframe thead th {\n",
       "        text-align: right;\n",
       "    }\n",
       "</style>\n",
       "<table border=\"1\" class=\"dataframe\">\n",
       "  <thead>\n",
       "    <tr style=\"text-align: right;\">\n",
       "      <th></th>\n",
       "      <th>percentil</th>\n",
       "      <th>agresivoV</th>\n",
       "      <th>controlV</th>\n",
       "      <th>pasivoV</th>\n",
       "    </tr>\n",
       "  </thead>\n",
       "  <tbody>\n",
       "    <tr>\n",
       "      <th>0</th>\n",
       "      <td>1</td>\n",
       "      <td>0</td>\n",
       "      <td>4</td>\n",
       "      <td>0</td>\n",
       "    </tr>\n",
       "    <tr>\n",
       "      <th>1</th>\n",
       "      <td>10</td>\n",
       "      <td>2</td>\n",
       "      <td>7</td>\n",
       "      <td>1</td>\n",
       "    </tr>\n",
       "    <tr>\n",
       "      <th>2</th>\n",
       "      <td>20</td>\n",
       "      <td>4</td>\n",
       "      <td>10</td>\n",
       "      <td>1</td>\n",
       "    </tr>\n",
       "    <tr>\n",
       "      <th>3</th>\n",
       "      <td>30</td>\n",
       "      <td>5</td>\n",
       "      <td>12</td>\n",
       "      <td>2</td>\n",
       "    </tr>\n",
       "    <tr>\n",
       "      <th>4</th>\n",
       "      <td>40</td>\n",
       "      <td>6</td>\n",
       "      <td>13</td>\n",
       "      <td>3</td>\n",
       "    </tr>\n",
       "  </tbody>\n",
       "</table>\n",
       "</div>"
      ],
      "text/plain": [
       "   percentil  agresivoV  controlV  pasivoV\n",
       "0          1          0         4        0\n",
       "1         10          2         7        1\n",
       "2         20          4        10        1\n",
       "3         30          5        12        2\n",
       "4         40          6        13        3"
      ]
     },
     "execution_count": 9,
     "metadata": {},
     "output_type": "execute_result"
    }
   ],
   "source": [
    "# La tabla de percentiles\n",
    "tabla_percentiles = {\n",
    "    'percentil': [1, 10, 20, 30, 40, 50, 60, 70, 80, 90, 99,100],\n",
    "    'agresivoV': [0, 2, 4, 5, 6, 7, 9, 13, 16, 18, 29,100],\n",
    "    'controlV': [4, 7, 10, 12, 13, 15, 18, 19, 21, 22, 25,100],\n",
    "    'pasivoV': [0, 1, 1, 2, 3, 4, 6, 9, 11, 13, 21, 100]\n",
    "}\n",
    "\n",
    "df_percentiles = pd.DataFrame(tabla_percentiles)\n",
    "\n",
    "df_percentiles.head()\n"
   ]
  },
  {
   "cell_type": "code",
   "execution_count": 19,
   "metadata": {},
   "outputs": [
    {
     "data": {
      "text/html": [
       "<div>\n",
       "<style scoped>\n",
       "    .dataframe tbody tr th:only-of-type {\n",
       "        vertical-align: middle;\n",
       "    }\n",
       "\n",
       "    .dataframe tbody tr th {\n",
       "        vertical-align: top;\n",
       "    }\n",
       "\n",
       "    .dataframe thead th {\n",
       "        text-align: right;\n",
       "    }\n",
       "</style>\n",
       "<table border=\"1\" class=\"dataframe\">\n",
       "  <thead>\n",
       "    <tr style=\"text-align: right;\">\n",
       "      <th></th>\n",
       "      <th>Suje1</th>\n",
       "      <th>Suje2</th>\n",
       "      <th>Suje3</th>\n",
       "      <th>Suje4</th>\n",
       "    </tr>\n",
       "  </thead>\n",
       "  <tbody>\n",
       "    <tr>\n",
       "      <th>0</th>\n",
       "      <td>5</td>\n",
       "      <td>5</td>\n",
       "      <td>11</td>\n",
       "      <td>9</td>\n",
       "    </tr>\n",
       "    <tr>\n",
       "      <th>1</th>\n",
       "      <td>18</td>\n",
       "      <td>17</td>\n",
       "      <td>18</td>\n",
       "      <td>22</td>\n",
       "    </tr>\n",
       "    <tr>\n",
       "      <th>2</th>\n",
       "      <td>16</td>\n",
       "      <td>18</td>\n",
       "      <td>8</td>\n",
       "      <td>0</td>\n",
       "    </tr>\n",
       "  </tbody>\n",
       "</table>\n",
       "</div>"
      ],
      "text/plain": [
       "   Suje1  Suje2  Suje3  Suje4\n",
       "0      5      5     11      9\n",
       "1     18     17     18     22\n",
       "2     16     18      8      0"
      ]
     },
     "execution_count": 19,
     "metadata": {},
     "output_type": "execute_result"
    }
   ],
   "source": [
    "# Tu DataFrame de resultados de la encuesta\n",
    "data = {\n",
    "    'Suje1': [5, 18, 16],\n",
    "    'Suje2': [5, 17, 18],\n",
    "    'Suje3': [11, 18, 8],\n",
    "    'Suje4': [9, 22, 0]\n",
    "}\n",
    "df_encuesta = pd.DataFrame(data)\n",
    "\n",
    "df_encuesta.head()\n"
   ]
  },
  {
   "cell_type": "code",
   "execution_count": 14,
   "metadata": {},
   "outputs": [
    {
     "data": {
      "text/html": [
       "<div>\n",
       "<style scoped>\n",
       "    .dataframe tbody tr th:only-of-type {\n",
       "        vertical-align: middle;\n",
       "    }\n",
       "\n",
       "    .dataframe tbody tr th {\n",
       "        vertical-align: top;\n",
       "    }\n",
       "\n",
       "    .dataframe thead th {\n",
       "        text-align: right;\n",
       "    }\n",
       "</style>\n",
       "<table border=\"1\" class=\"dataframe\">\n",
       "  <thead>\n",
       "    <tr style=\"text-align: right;\">\n",
       "      <th></th>\n",
       "      <th>Suje1</th>\n",
       "      <th>Suje2</th>\n",
       "      <th>Suje3</th>\n",
       "      <th>Suje4</th>\n",
       "    </tr>\n",
       "  </thead>\n",
       "  <tbody>\n",
       "    <tr>\n",
       "      <th>0</th>\n",
       "      <td>5</td>\n",
       "      <td>5</td>\n",
       "      <td>11</td>\n",
       "      <td>9</td>\n",
       "    </tr>\n",
       "    <tr>\n",
       "      <th>1</th>\n",
       "      <td>18</td>\n",
       "      <td>17</td>\n",
       "      <td>18</td>\n",
       "      <td>22</td>\n",
       "    </tr>\n",
       "    <tr>\n",
       "      <th>2</th>\n",
       "      <td>16</td>\n",
       "      <td>18</td>\n",
       "      <td>8</td>\n",
       "      <td>0</td>\n",
       "    </tr>\n",
       "  </tbody>\n",
       "</table>\n",
       "</div>"
      ],
      "text/plain": [
       "   Suje1  Suje2  Suje3  Suje4\n",
       "0      5      5     11      9\n",
       "1     18     17     18     22\n",
       "2     16     18      8      0"
      ]
     },
     "execution_count": 14,
     "metadata": {},
     "output_type": "execute_result"
    }
   ],
   "source": [
    "\n",
    "df_encuesta = clasificado\n",
    "df_encuesta.head()"
   ]
  },
  {
   "cell_type": "code",
   "execution_count": null,
   "metadata": {},
   "outputs": [],
   "source": [
    "\n",
    "\n"
   ]
  },
  {
   "cell_type": "code",
   "execution_count": 24,
   "metadata": {},
   "outputs": [],
   "source": [
    "\n",
    "     # Función para calcular el percentil correspondiente\n",
    "def calcular_percentil(valor, tipo_comportamiento):\n",
    "    percentil = df_percentiles[df_percentiles[tipo_comportamiento] >= valor]['percentil'].min()\n",
    "    return percentil if percentil is not None else 100  \n"
   ]
  },
  {
   "cell_type": "code",
   "execution_count": 30,
   "metadata": {},
   "outputs": [
    {
     "data": {
      "text/plain": [
       "30"
      ]
     },
     "execution_count": 30,
     "metadata": {},
     "output_type": "execute_result"
    }
   ],
   "source": [
    "calcular_percentil(5, 'agresivoV')"
   ]
  },
  {
   "cell_type": "code",
   "execution_count": 25,
   "metadata": {},
   "outputs": [
    {
     "ename": "ValueError",
     "evalue": "('Lengths must match to compare', (12,), (3,))",
     "output_type": "error",
     "traceback": [
      "\u001b[0;31m---------------------------------------------------------------------------\u001b[0m",
      "\u001b[0;31mValueError\u001b[0m                                Traceback (most recent call last)",
      "\u001b[1;32m/home/carlos/work/git/raulcabs/testCAB.ipynb Cell 10\u001b[0m line \u001b[0;36m5\n\u001b[1;32m      <a href='vscode-notebook-cell:/home/carlos/work/git/raulcabs/testCAB.ipynb#X13sZmlsZQ%3D%3D?line=2'>3</a>\u001b[0m \u001b[39mfor\u001b[39;00m col \u001b[39min\u001b[39;00m df_encuesta\u001b[39m.\u001b[39mcolumns:\n\u001b[1;32m      <a href='vscode-notebook-cell:/home/carlos/work/git/raulcabs/testCAB.ipynb#X13sZmlsZQ%3D%3D?line=3'>4</a>\u001b[0m     \u001b[39mfor\u001b[39;00m index, valor \u001b[39min\u001b[39;00m df_encuesta[col]\u001b[39m.\u001b[39mitems():\n\u001b[0;32m----> <a href='vscode-notebook-cell:/home/carlos/work/git/raulcabs/testCAB.ipynb#X13sZmlsZQ%3D%3D?line=4'>5</a>\u001b[0m         agresivo_percentil \u001b[39m=\u001b[39m calcular_percentil(valor, \u001b[39m'\u001b[39;49m\u001b[39magresivoV\u001b[39;49m\u001b[39m'\u001b[39;49m)\n\u001b[1;32m      <a href='vscode-notebook-cell:/home/carlos/work/git/raulcabs/testCAB.ipynb#X13sZmlsZQ%3D%3D?line=5'>6</a>\u001b[0m         control_percentil \u001b[39m=\u001b[39m calcular_percentil(valor, \u001b[39m'\u001b[39m\u001b[39mcontrolV\u001b[39m\u001b[39m'\u001b[39m)\n\u001b[1;32m      <a href='vscode-notebook-cell:/home/carlos/work/git/raulcabs/testCAB.ipynb#X13sZmlsZQ%3D%3D?line=6'>7</a>\u001b[0m         pasivo_percentil \u001b[39m=\u001b[39m calcular_percentil(valor, \u001b[39m'\u001b[39m\u001b[39mpasivoV\u001b[39m\u001b[39m'\u001b[39m)\n",
      "\u001b[1;32m/home/carlos/work/git/raulcabs/testCAB.ipynb Cell 10\u001b[0m line \u001b[0;36m3\n\u001b[1;32m      <a href='vscode-notebook-cell:/home/carlos/work/git/raulcabs/testCAB.ipynb#X13sZmlsZQ%3D%3D?line=1'>2</a>\u001b[0m \u001b[39mdef\u001b[39;00m \u001b[39mcalcular_percentil\u001b[39m(valor, tipo_comportamiento):\n\u001b[0;32m----> <a href='vscode-notebook-cell:/home/carlos/work/git/raulcabs/testCAB.ipynb#X13sZmlsZQ%3D%3D?line=2'>3</a>\u001b[0m     percentil \u001b[39m=\u001b[39m df_percentiles[df_percentiles[tipo_comportamiento] \u001b[39m>\u001b[39;49m\u001b[39m=\u001b[39;49m valor][\u001b[39m'\u001b[39m\u001b[39mpercentil\u001b[39m\u001b[39m'\u001b[39m]\u001b[39m.\u001b[39mmin()\n\u001b[1;32m      <a href='vscode-notebook-cell:/home/carlos/work/git/raulcabs/testCAB.ipynb#X13sZmlsZQ%3D%3D?line=3'>4</a>\u001b[0m     \u001b[39mreturn\u001b[39;00m percentil \u001b[39mif\u001b[39;00m percentil \u001b[39mis\u001b[39;00m \u001b[39mnot\u001b[39;00m \u001b[39mNone\u001b[39;00m \u001b[39melse\u001b[39;00m \u001b[39m100\u001b[39m\n",
      "File \u001b[0;32m~/work/git/raulcabs/.venv/lib/python3.11/site-packages/pandas/core/ops/common.py:76\u001b[0m, in \u001b[0;36m_unpack_zerodim_and_defer.<locals>.new_method\u001b[0;34m(self, other)\u001b[0m\n\u001b[1;32m     72\u001b[0m             \u001b[39mreturn\u001b[39;00m \u001b[39mNotImplemented\u001b[39m\n\u001b[1;32m     74\u001b[0m other \u001b[39m=\u001b[39m item_from_zerodim(other)\n\u001b[0;32m---> 76\u001b[0m \u001b[39mreturn\u001b[39;00m method(\u001b[39mself\u001b[39;49m, other)\n",
      "File \u001b[0;32m~/work/git/raulcabs/.venv/lib/python3.11/site-packages/pandas/core/arraylike.py:60\u001b[0m, in \u001b[0;36mOpsMixin.__ge__\u001b[0;34m(self, other)\u001b[0m\n\u001b[1;32m     58\u001b[0m \u001b[39m@unpack_zerodim_and_defer\u001b[39m(\u001b[39m\"\u001b[39m\u001b[39m__ge__\u001b[39m\u001b[39m\"\u001b[39m)\n\u001b[1;32m     59\u001b[0m \u001b[39mdef\u001b[39;00m \u001b[39m__ge__\u001b[39m(\u001b[39mself\u001b[39m, other):\n\u001b[0;32m---> 60\u001b[0m     \u001b[39mreturn\u001b[39;00m \u001b[39mself\u001b[39;49m\u001b[39m.\u001b[39;49m_cmp_method(other, operator\u001b[39m.\u001b[39;49mge)\n",
      "File \u001b[0;32m~/work/git/raulcabs/.venv/lib/python3.11/site-packages/pandas/core/series.py:6119\u001b[0m, in \u001b[0;36mSeries._cmp_method\u001b[0;34m(self, other, op)\u001b[0m\n\u001b[1;32m   6116\u001b[0m lvalues \u001b[39m=\u001b[39m \u001b[39mself\u001b[39m\u001b[39m.\u001b[39m_values\n\u001b[1;32m   6117\u001b[0m rvalues \u001b[39m=\u001b[39m extract_array(other, extract_numpy\u001b[39m=\u001b[39m\u001b[39mTrue\u001b[39;00m, extract_range\u001b[39m=\u001b[39m\u001b[39mTrue\u001b[39;00m)\n\u001b[0;32m-> 6119\u001b[0m res_values \u001b[39m=\u001b[39m ops\u001b[39m.\u001b[39;49mcomparison_op(lvalues, rvalues, op)\n\u001b[1;32m   6121\u001b[0m \u001b[39mreturn\u001b[39;00m \u001b[39mself\u001b[39m\u001b[39m.\u001b[39m_construct_result(res_values, name\u001b[39m=\u001b[39mres_name)\n",
      "File \u001b[0;32m~/work/git/raulcabs/.venv/lib/python3.11/site-packages/pandas/core/ops/array_ops.py:321\u001b[0m, in \u001b[0;36mcomparison_op\u001b[0;34m(left, right, op)\u001b[0m\n\u001b[1;32m    316\u001b[0m \u001b[39mif\u001b[39;00m \u001b[39misinstance\u001b[39m(rvalues, (np\u001b[39m.\u001b[39mndarray, ABCExtensionArray)):\n\u001b[1;32m    317\u001b[0m     \u001b[39m# TODO: make this treatment consistent across ops and classes.\u001b[39;00m\n\u001b[1;32m    318\u001b[0m     \u001b[39m#  We are not catching all listlikes here (e.g. frozenset, tuple)\u001b[39;00m\n\u001b[1;32m    319\u001b[0m     \u001b[39m#  The ambiguous case is object-dtype.  See GH#27803\u001b[39;00m\n\u001b[1;32m    320\u001b[0m     \u001b[39mif\u001b[39;00m \u001b[39mlen\u001b[39m(lvalues) \u001b[39m!=\u001b[39m \u001b[39mlen\u001b[39m(rvalues):\n\u001b[0;32m--> 321\u001b[0m         \u001b[39mraise\u001b[39;00m \u001b[39mValueError\u001b[39;00m(\n\u001b[1;32m    322\u001b[0m             \u001b[39m\"\u001b[39m\u001b[39mLengths must match to compare\u001b[39m\u001b[39m\"\u001b[39m, lvalues\u001b[39m.\u001b[39mshape, rvalues\u001b[39m.\u001b[39mshape\n\u001b[1;32m    323\u001b[0m         )\n\u001b[1;32m    325\u001b[0m \u001b[39mif\u001b[39;00m should_extension_dispatch(lvalues, rvalues) \u001b[39mor\u001b[39;00m (\n\u001b[1;32m    326\u001b[0m     (\u001b[39misinstance\u001b[39m(rvalues, (Timedelta, BaseOffset, Timestamp)) \u001b[39mor\u001b[39;00m right \u001b[39mis\u001b[39;00m NaT)\n\u001b[1;32m    327\u001b[0m     \u001b[39mand\u001b[39;00m lvalues\u001b[39m.\u001b[39mdtype \u001b[39m!=\u001b[39m \u001b[39mobject\u001b[39m\n\u001b[1;32m    328\u001b[0m ):\n\u001b[1;32m    329\u001b[0m     \u001b[39m# Call the method on lvalues\u001b[39;00m\n\u001b[1;32m    330\u001b[0m     res_values \u001b[39m=\u001b[39m op(lvalues, rvalues)\n",
      "\u001b[0;31mValueError\u001b[0m: ('Lengths must match to compare', (12,), (3,))"
     ]
    }
   ],
   "source": [
    "# bAsado en  series no en series de series \n",
    "# Calcular percentiles para cada sujeto en el DataFrame de la encuesta\n",
    "#for col in df_encuesta.columns:\n",
    "#    for index, valor in df_encuesta[col].items():\n",
    "#        agresivo_percentil = calcular_percentil(valor, 'agresivoV')\n",
    "#        control_percentil = calcular_percentil(valor, 'controlV')\n",
    "#        pasivo_percentil = calcular_percentil(valor, 'pasivoV')\n",
    "#        print(f\"Sujeto: {col}, Valor: {valor}, Percentil Agresivo: {agresivo_percentil}, Percentil Control: {control_percentil}, Percentil Pasivo: {pasivo_percentil}\")"
   ]
  },
  {
   "cell_type": "code",
   "execution_count": 32,
   "metadata": {},
   "outputs": [],
   "source": [
    "\n",
    "# Función para calcular el percentil correspondiente\n",
    "#def calcular_percentil(valor, tipo_comportamiento):\n",
    " #   percentil = df_percentiles[df_percentiles[tipo_comportamiento] >= valor][tipo_comportamiento].iloc[0]\n",
    " #   return percentil if percentil is not None else 100"
   ]
  },
  {
   "cell_type": "code",
   "execution_count": 21,
   "metadata": {},
   "outputs": [
    {
     "data": {
      "text/html": [
       "<div>\n",
       "<style scoped>\n",
       "    .dataframe tbody tr th:only-of-type {\n",
       "        vertical-align: middle;\n",
       "    }\n",
       "\n",
       "    .dataframe tbody tr th {\n",
       "        vertical-align: top;\n",
       "    }\n",
       "\n",
       "    .dataframe thead th {\n",
       "        text-align: right;\n",
       "    }\n",
       "</style>\n",
       "<table border=\"1\" class=\"dataframe\">\n",
       "  <thead>\n",
       "    <tr style=\"text-align: right;\">\n",
       "      <th></th>\n",
       "      <th>Suje1</th>\n",
       "      <th>Suje2</th>\n",
       "      <th>Suje3</th>\n",
       "      <th>Suje4</th>\n",
       "    </tr>\n",
       "  </thead>\n",
       "  <tbody>\n",
       "    <tr>\n",
       "      <th>0</th>\n",
       "      <td>[5, 18, 16]</td>\n",
       "      <td>[5, 17, 18]</td>\n",
       "      <td>[11, 18, 8]</td>\n",
       "      <td>[9, 22, 0]</td>\n",
       "    </tr>\n",
       "  </tbody>\n",
       "</table>\n",
       "</div>"
      ],
      "text/plain": [
       "         Suje1        Suje2        Suje3       Suje4\n",
       "0  [5, 18, 16]  [5, 17, 18]  [11, 18, 8]  [9, 22, 0]"
      ]
     },
     "execution_count": 21,
     "metadata": {},
     "output_type": "execute_result"
    }
   ],
   "source": [
    "# series de series \n",
    "data = {\n",
    "    'Suje1': [[5, 18, 16]],\n",
    "    'Suje2': [[5, 17, 18]],\n",
    "    'Suje3': [[11, 18, 8]],\n",
    "    'Suje4': [[9, 22, 0]]\n",
    "}\n",
    "df_encuesta = pd.DataFrame(data)\n",
    "df_encuesta.head()"
   ]
  },
  {
   "cell_type": "code",
   "execution_count": 26,
   "metadata": {},
   "outputs": [
    {
     "name": "stdout",
     "output_type": "stream",
     "text": [
      "Sujeto: Suje1, Valor Control: 5, Percentil Control: 10\n",
      "Sujeto: Suje1, Valor Pasivo: 18, Percentil Pasivo: 99\n",
      "Sujeto: Suje1, Valor Agresivo: 16, Percentil Agresivo: 80\n",
      "Sujeto: Suje2, Valor Control: 5, Percentil Control: 10\n",
      "Sujeto: Suje2, Valor Pasivo: 17, Percentil Pasivo: 99\n",
      "Sujeto: Suje2, Valor Agresivo: 18, Percentil Agresivo: 90\n",
      "Sujeto: Suje3, Valor Control: 11, Percentil Control: 30\n",
      "Sujeto: Suje3, Valor Pasivo: 18, Percentil Pasivo: 99\n",
      "Sujeto: Suje3, Valor Agresivo: 8, Percentil Agresivo: 60\n",
      "Sujeto: Suje4, Valor Control: 9, Percentil Control: 20\n",
      "Sujeto: Suje4, Valor Pasivo: 22, Percentil Pasivo: 100\n",
      "Sujeto: Suje4, Valor Agresivo: 0, Percentil Agresivo: 1\n"
     ]
    }
   ],
   "source": [
    "# Calcular percentiles para cada sujeto en el DataFrame de la encuesta\n",
    "for col in df_encuesta.columns:\n",
    "    for index, valores in df_encuesta[col].items():\n",
    "        control_percentil = calcular_percentil(valores[0], 'controlV')\n",
    "        pasivo_percentil = calcular_percentil(valores[1], 'pasivoV')\n",
    "        agresivo_percentil = calcular_percentil(valores[2], 'agresivoV')\n",
    "        print(f\"Sujeto: {col}, Valor Control: {valores[0]}, Percentil Control: {control_percentil}\")\n",
    "        print(f\"Sujeto: {col}, Valor Pasivo: {valores[1]}, Percentil Pasivo: {pasivo_percentil}\")\n",
    "        print(f\"Sujeto: {col}, Valor Agresivo: {valores[2]}, Percentil Agresivo: {agresivo_percentil}\")"
   ]
  },
  {
   "cell_type": "code",
   "execution_count": 27,
   "metadata": {},
   "outputs": [
    {
     "name": "stdout",
     "output_type": "stream",
     "text": [
      "  Sujeto  Valor Control  Percentil Control  Valor Pasivo  Percentil Pasivo  \\\n",
      "0  Suje1              5                 10            18                99   \n",
      "1  Suje2              5                 10            17                99   \n",
      "2  Suje3             11                 30            18                99   \n",
      "3  Suje4              9                 20            22               100   \n",
      "\n",
      "   Valor Agresivo  Percentil Agresivo  \n",
      "0              16                  80  \n",
      "1              18                  90  \n",
      "2               8                  60  \n",
      "3               0                   1  \n"
     ]
    }
   ],
   "source": [
    "\n",
    "# Lista para almacenar los resultados de cada sujeto\n",
    "resultados = []\n",
    "\n",
    "# Calcular percentiles para cada sujeto en el DataFrame de la encuesta\n",
    "for col in df_encuesta.columns:\n",
    "    for index, valores in df_encuesta[col].items():\n",
    "        control_percentil = calcular_percentil(valores[0], 'controlV')\n",
    "        pasivo_percentil = calcular_percentil(valores[1], 'pasivoV')\n",
    "        agresivo_percentil = calcular_percentil(valores[2], 'agresivoV')\n",
    "        \n",
    "        # Guardar los resultados en un diccionario\n",
    "        resultados.append({\n",
    "            'Sujeto': col,\n",
    "            'Valor Control': valores[0],\n",
    "            'Percentil Control': control_percentil,\n",
    "            'Valor Pasivo': valores[1],\n",
    "            'Percentil Pasivo': pasivo_percentil,\n",
    "            'Valor Agresivo': valores[2],\n",
    "            'Percentil Agresivo': agresivo_percentil\n",
    "        })\n",
    "\n",
    "# Convertir la lista de resultados en un DataFrame\n",
    "df_resultados = pd.DataFrame(resultados)\n",
    "\n",
    "# Mostrar el DataFrame con los resultados\n",
    "print(df_resultados)"
   ]
  },
  {
   "cell_type": "code",
   "execution_count": null,
   "metadata": {},
   "outputs": [],
   "source": []
  },
  {
   "cell_type": "code",
   "execution_count": null,
   "metadata": {},
   "outputs": [],
   "source": []
  },
  {
   "cell_type": "code",
   "execution_count": null,
   "metadata": {},
   "outputs": [],
   "source": []
  },
  {
   "cell_type": "code",
   "execution_count": 131,
   "metadata": {},
   "outputs": [],
   "source": []
  },
  {
   "cell_type": "code",
   "execution_count": null,
   "metadata": {},
   "outputs": [],
   "source": [
    "\n"
   ]
  },
  {
   "cell_type": "code",
   "execution_count": null,
   "metadata": {},
   "outputs": [],
   "source": []
  }
 ],
 "metadata": {
  "kernelspec": {
   "display_name": ".venv",
   "language": "python",
   "name": "python3"
  },
  "language_info": {
   "codemirror_mode": {
    "name": "ipython",
    "version": 3
   },
   "file_extension": ".py",
   "mimetype": "text/x-python",
   "name": "python",
   "nbconvert_exporter": "python",
   "pygments_lexer": "ipython3",
   "version": "3.11.9"
  }
 },
 "nbformat": 4,
 "nbformat_minor": 2
}
