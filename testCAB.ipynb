{
 "cells": [
  {
   "cell_type": "code",
   "execution_count": 3,
   "metadata": {},
   "outputs": [],
   "source": [
    "import pandas as pd\n",
    "import numpy as np\n"
   ]
  },
  {
   "cell_type": "code",
   "execution_count": 4,
   "metadata": {},
   "outputs": [
    {
     "data": {
      "text/html": [
       "<div>\n",
       "<style scoped>\n",
       "    .dataframe tbody tr th:only-of-type {\n",
       "        vertical-align: middle;\n",
       "    }\n",
       "\n",
       "    .dataframe tbody tr th {\n",
       "        vertical-align: top;\n",
       "    }\n",
       "\n",
       "    .dataframe thead th {\n",
       "        text-align: right;\n",
       "    }\n",
       "</style>\n",
       "<table border=\"1\" class=\"dataframe\">\n",
       "  <thead>\n",
       "    <tr style=\"text-align: right;\">\n",
       "      <th></th>\n",
       "      <th>percentil</th>\n",
       "      <th>agresivoV</th>\n",
       "      <th>controlV</th>\n",
       "      <th>pasivoV</th>\n",
       "    </tr>\n",
       "  </thead>\n",
       "  <tbody>\n",
       "    <tr>\n",
       "      <th>7</th>\n",
       "      <td>70</td>\n",
       "      <td>13</td>\n",
       "      <td>19</td>\n",
       "      <td>9</td>\n",
       "    </tr>\n",
       "    <tr>\n",
       "      <th>8</th>\n",
       "      <td>80</td>\n",
       "      <td>16</td>\n",
       "      <td>21</td>\n",
       "      <td>11</td>\n",
       "    </tr>\n",
       "    <tr>\n",
       "      <th>9</th>\n",
       "      <td>90</td>\n",
       "      <td>18</td>\n",
       "      <td>22</td>\n",
       "      <td>13</td>\n",
       "    </tr>\n",
       "    <tr>\n",
       "      <th>10</th>\n",
       "      <td>99</td>\n",
       "      <td>29</td>\n",
       "      <td>25</td>\n",
       "      <td>21</td>\n",
       "    </tr>\n",
       "    <tr>\n",
       "      <th>11</th>\n",
       "      <td>100</td>\n",
       "      <td>100</td>\n",
       "      <td>100</td>\n",
       "      <td>100</td>\n",
       "    </tr>\n",
       "  </tbody>\n",
       "</table>\n",
       "</div>"
      ],
      "text/plain": [
       "    percentil  agresivoV  controlV  pasivoV\n",
       "7          70         13        19        9\n",
       "8          80         16        21       11\n",
       "9          90         18        22       13\n",
       "10         99         29        25       21\n",
       "11        100        100       100      100"
      ]
     },
     "execution_count": 4,
     "metadata": {},
     "output_type": "execute_result"
    }
   ],
   "source": [
    "correc_df = pd.read_csv('tabla_correccion.csv')\n",
    "tabla = correc_df.values\n",
    "\n",
    "\n",
    "sujetos = pd.read_csv('tabla_resultados.csv')\n",
    "\n",
    "\n",
    "percentil = pd.read_csv('tabla_percentil.csv')\n",
    "sujetos.head()\n",
    "\n",
    "percentil = pd.read_csv('tabla_percentil.csv')\n",
    "percentil.head()\n",
    "percentil_v = pd.read_csv('tabla_percentil_varon.csv')\n",
    "percentil_v.tail()\n",
    "percentil_m = pd.read_csv('tabla_percentil_mujer.csv')\n",
    "percentil_m.tail()"
   ]
  },
  {
   "cell_type": "code",
   "execution_count": 5,
   "metadata": {},
   "outputs": [
    {
     "name": "stdout",
     "output_type": "stream",
     "text": [
      "Empty DataFrame\n",
      "Columns: [Suje1, Suje2, Suje3, Suje4]\n",
      "Index: []\n"
     ]
    },
    {
     "data": {
      "text/html": [
       "<div>\n",
       "<style scoped>\n",
       "    .dataframe tbody tr th:only-of-type {\n",
       "        vertical-align: middle;\n",
       "    }\n",
       "\n",
       "    .dataframe tbody tr th {\n",
       "        vertical-align: top;\n",
       "    }\n",
       "\n",
       "    .dataframe thead th {\n",
       "        text-align: right;\n",
       "    }\n",
       "</style>\n",
       "<table border=\"1\" class=\"dataframe\">\n",
       "  <thead>\n",
       "    <tr style=\"text-align: right;\">\n",
       "      <th></th>\n",
       "      <th>Suje1</th>\n",
       "      <th>Suje2</th>\n",
       "      <th>Suje3</th>\n",
       "      <th>Suje4</th>\n",
       "    </tr>\n",
       "  </thead>\n",
       "  <tbody>\n",
       "    <tr>\n",
       "      <th>0</th>\n",
       "      <td>-2</td>\n",
       "      <td>2</td>\n",
       "      <td>-2</td>\n",
       "      <td>-2</td>\n",
       "    </tr>\n",
       "    <tr>\n",
       "      <th>1</th>\n",
       "      <td>-1</td>\n",
       "      <td>1</td>\n",
       "      <td>-1</td>\n",
       "      <td>-2</td>\n",
       "    </tr>\n",
       "    <tr>\n",
       "      <th>2</th>\n",
       "      <td>2</td>\n",
       "      <td>0</td>\n",
       "      <td>0</td>\n",
       "      <td>-1</td>\n",
       "    </tr>\n",
       "    <tr>\n",
       "      <th>3</th>\n",
       "      <td>1</td>\n",
       "      <td>-2</td>\n",
       "      <td>1</td>\n",
       "      <td>-2</td>\n",
       "    </tr>\n",
       "    <tr>\n",
       "      <th>4</th>\n",
       "      <td>0</td>\n",
       "      <td>-1</td>\n",
       "      <td>2</td>\n",
       "      <td>-1</td>\n",
       "    </tr>\n",
       "  </tbody>\n",
       "</table>\n",
       "</div>"
      ],
      "text/plain": [
       "   Suje1  Suje2  Suje3  Suje4\n",
       "0     -2      2     -2     -2\n",
       "1     -1      1     -1     -2\n",
       "2      2      0      0     -1\n",
       "3      1     -2      1     -2\n",
       "4      0     -1      2     -1"
      ]
     },
     "execution_count": 5,
     "metadata": {},
     "output_type": "execute_result"
    }
   ],
   "source": [
    "\n",
    "\n",
    "\n",
    "columna = 0\n",
    "suj = []\n",
    "lista = []\n",
    "numerico = pd.DataFrame(columns=sujetos.columns)\n",
    "print(numerico)\n",
    "\n",
    "for column in sujetos.columns[:]:\n",
    " \n",
    "    fila = 0\n",
    "    for items in sujetos[column]:\n",
    "        \n",
    "        #print (items)\n",
    "        match (items):\n",
    "            case \"A\":\n",
    "              lista.append (tabla[fila][0])  \n",
    "            case \"B\":\n",
    "              lista.append(tabla[fila][1])\n",
    "            case \"C\":\n",
    "               lista.append(tabla[fila][2])\n",
    "            case \"D\":\n",
    "               lista.append(tabla[fila][3])\n",
    "            case \"E\":\n",
    "              lista.append(tabla[fila][4])\n",
    "\n",
    "        fila +=1\n",
    "    #print (lista)\n",
    "\n",
    "    numerico[column] = lista\n",
    "    se = pd.Series(lista)\n",
    "   \n",
    "    lista.clear()\n",
    "    columna += 1\n",
    "numerico.head()\n",
    "\n"
   ]
  },
  {
   "cell_type": "code",
   "execution_count": 6,
   "metadata": {},
   "outputs": [
    {
     "name": "stdout",
     "output_type": "stream",
     "text": [
      "   Suje1  Suje2  Suje3  Suje4\n",
      "0      5      5     11      9\n",
      "1     18     17     18     22\n",
      "2     16     18      8      0\n"
     ]
    }
   ],
   "source": [
    "clasificado = pd.DataFrame(columns=sujetos.columns)\n",
    "\n",
    "\n",
    "for column in numerico.columns[:]:\n",
    "    asertivo=0\n",
    "    pasivo=0\n",
    "    agresivo=0\n",
    "    fila = 0\n",
    "    for items in numerico[column]:\n",
    "        if items == 0:\n",
    "            asertivo +=1\n",
    "        elif items >0 :\n",
    "            agresivo = agresivo + items\n",
    "        else :\n",
    "            pasivo -= items\n",
    "    clasificado[column] = [asertivo,pasivo,agresivo]\n",
    "print (clasificado)"
   ]
  },
  {
   "cell_type": "code",
   "execution_count": 7,
   "metadata": {},
   "outputs": [
    {
     "data": {
      "text/html": [
       "<div>\n",
       "<style scoped>\n",
       "    .dataframe tbody tr th:only-of-type {\n",
       "        vertical-align: middle;\n",
       "    }\n",
       "\n",
       "    .dataframe tbody tr th {\n",
       "        vertical-align: top;\n",
       "    }\n",
       "\n",
       "    .dataframe thead th {\n",
       "        text-align: right;\n",
       "    }\n",
       "</style>\n",
       "<table border=\"1\" class=\"dataframe\">\n",
       "  <thead>\n",
       "    <tr style=\"text-align: right;\">\n",
       "      <th></th>\n",
       "      <th>percentil</th>\n",
       "      <th>agresivoV</th>\n",
       "      <th>controlV</th>\n",
       "      <th>pasivoV</th>\n",
       "    </tr>\n",
       "  </thead>\n",
       "  <tbody>\n",
       "    <tr>\n",
       "      <th>0</th>\n",
       "      <td>1</td>\n",
       "      <td>0</td>\n",
       "      <td>4</td>\n",
       "      <td>0</td>\n",
       "    </tr>\n",
       "    <tr>\n",
       "      <th>1</th>\n",
       "      <td>10</td>\n",
       "      <td>2</td>\n",
       "      <td>7</td>\n",
       "      <td>1</td>\n",
       "    </tr>\n",
       "    <tr>\n",
       "      <th>2</th>\n",
       "      <td>20</td>\n",
       "      <td>4</td>\n",
       "      <td>10</td>\n",
       "      <td>1</td>\n",
       "    </tr>\n",
       "    <tr>\n",
       "      <th>3</th>\n",
       "      <td>30</td>\n",
       "      <td>5</td>\n",
       "      <td>12</td>\n",
       "      <td>2</td>\n",
       "    </tr>\n",
       "    <tr>\n",
       "      <th>4</th>\n",
       "      <td>40</td>\n",
       "      <td>6</td>\n",
       "      <td>13</td>\n",
       "      <td>3</td>\n",
       "    </tr>\n",
       "  </tbody>\n",
       "</table>\n",
       "</div>"
      ],
      "text/plain": [
       "   percentil  agresivoV  controlV  pasivoV\n",
       "0          1          0         4        0\n",
       "1         10          2         7        1\n",
       "2         20          4        10        1\n",
       "3         30          5        12        2\n",
       "4         40          6        13        3"
      ]
     },
     "execution_count": 7,
     "metadata": {},
     "output_type": "execute_result"
    }
   ],
   "source": [
    "# La tabla de percentiles\n",
    "tabla_percentiles = {\n",
    "    'percentil': [1, 10, 20, 30, 40, 50, 60, 70, 80, 90, 99,100],\n",
    "    'agresivoV': [0, 2, 4, 5, 6, 7, 9, 13, 16, 18, 29,100],\n",
    "    'controlV': [4, 7, 10, 12, 13, 15, 18, 19, 21, 22, 25,100],\n",
    "    'pasivoV': [0, 1, 1, 2, 3, 4, 6, 9, 11, 13, 21, 100]\n",
    "}\n",
    "\n",
    "df_percentiles = pd.DataFrame(tabla_percentiles)\n",
    "\n",
    "df_percentiles.head()\n"
   ]
  },
  {
   "cell_type": "code",
   "execution_count": 8,
   "metadata": {},
   "outputs": [
    {
     "data": {
      "text/html": [
       "<div>\n",
       "<style scoped>\n",
       "    .dataframe tbody tr th:only-of-type {\n",
       "        vertical-align: middle;\n",
       "    }\n",
       "\n",
       "    .dataframe tbody tr th {\n",
       "        vertical-align: top;\n",
       "    }\n",
       "\n",
       "    .dataframe thead th {\n",
       "        text-align: right;\n",
       "    }\n",
       "</style>\n",
       "<table border=\"1\" class=\"dataframe\">\n",
       "  <thead>\n",
       "    <tr style=\"text-align: right;\">\n",
       "      <th></th>\n",
       "      <th>Suje1</th>\n",
       "      <th>Suje2</th>\n",
       "      <th>Suje3</th>\n",
       "      <th>Suje4</th>\n",
       "    </tr>\n",
       "  </thead>\n",
       "  <tbody>\n",
       "    <tr>\n",
       "      <th>0</th>\n",
       "      <td>5</td>\n",
       "      <td>5</td>\n",
       "      <td>11</td>\n",
       "      <td>9</td>\n",
       "    </tr>\n",
       "    <tr>\n",
       "      <th>1</th>\n",
       "      <td>18</td>\n",
       "      <td>17</td>\n",
       "      <td>18</td>\n",
       "      <td>22</td>\n",
       "    </tr>\n",
       "    <tr>\n",
       "      <th>2</th>\n",
       "      <td>16</td>\n",
       "      <td>18</td>\n",
       "      <td>8</td>\n",
       "      <td>0</td>\n",
       "    </tr>\n",
       "  </tbody>\n",
       "</table>\n",
       "</div>"
      ],
      "text/plain": [
       "   Suje1  Suje2  Suje3  Suje4\n",
       "0      5      5     11      9\n",
       "1     18     17     18     22\n",
       "2     16     18      8      0"
      ]
     },
     "execution_count": 8,
     "metadata": {},
     "output_type": "execute_result"
    }
   ],
   "source": [
    "# Tu DataFrame de resultados de la encuesta\n",
    "data = {\n",
    "    'Suje1': [5, 18, 16],\n",
    "    'Suje2': [5, 17, 18],\n",
    "    'Suje3': [11, 18, 8],\n",
    "    'Suje4': [9, 22, 0]\n",
    "}\n",
    "df_encuesta = pd.DataFrame(data)\n",
    "\n",
    "df_encuesta.head()\n"
   ]
  },
  {
   "cell_type": "code",
   "execution_count": 9,
   "metadata": {},
   "outputs": [
    {
     "data": {
      "text/html": [
       "<div>\n",
       "<style scoped>\n",
       "    .dataframe tbody tr th:only-of-type {\n",
       "        vertical-align: middle;\n",
       "    }\n",
       "\n",
       "    .dataframe tbody tr th {\n",
       "        vertical-align: top;\n",
       "    }\n",
       "\n",
       "    .dataframe thead th {\n",
       "        text-align: right;\n",
       "    }\n",
       "</style>\n",
       "<table border=\"1\" class=\"dataframe\">\n",
       "  <thead>\n",
       "    <tr style=\"text-align: right;\">\n",
       "      <th></th>\n",
       "      <th>Suje1</th>\n",
       "      <th>Suje2</th>\n",
       "      <th>Suje3</th>\n",
       "      <th>Suje4</th>\n",
       "    </tr>\n",
       "  </thead>\n",
       "  <tbody>\n",
       "    <tr>\n",
       "      <th>0</th>\n",
       "      <td>5</td>\n",
       "      <td>5</td>\n",
       "      <td>11</td>\n",
       "      <td>9</td>\n",
       "    </tr>\n",
       "    <tr>\n",
       "      <th>1</th>\n",
       "      <td>18</td>\n",
       "      <td>17</td>\n",
       "      <td>18</td>\n",
       "      <td>22</td>\n",
       "    </tr>\n",
       "    <tr>\n",
       "      <th>2</th>\n",
       "      <td>16</td>\n",
       "      <td>18</td>\n",
       "      <td>8</td>\n",
       "      <td>0</td>\n",
       "    </tr>\n",
       "  </tbody>\n",
       "</table>\n",
       "</div>"
      ],
      "text/plain": [
       "   Suje1  Suje2  Suje3  Suje4\n",
       "0      5      5     11      9\n",
       "1     18     17     18     22\n",
       "2     16     18      8      0"
      ]
     },
     "execution_count": 9,
     "metadata": {},
     "output_type": "execute_result"
    }
   ],
   "source": [
    "\n",
    "df_encuesta = clasificado\n",
    "df_encuesta.head()"
   ]
  },
  {
   "cell_type": "code",
   "execution_count": null,
   "metadata": {},
   "outputs": [],
   "source": [
    "\n",
    "\n"
   ]
  },
  {
   "cell_type": "code",
   "execution_count": 10,
   "metadata": {},
   "outputs": [],
   "source": [
    "\n",
    "     # Función para calcular el percentil correspondiente\n",
    "def calcular_percentil(valor, tipo_comportamiento):\n",
    "    percentil = df_percentiles[df_percentiles[tipo_comportamiento] >= valor]['percentil'].min()\n",
    "    return percentil if percentil is not None else 100  \n"
   ]
  },
  {
   "cell_type": "code",
   "execution_count": 11,
   "metadata": {},
   "outputs": [
    {
     "data": {
      "text/plain": [
       "30"
      ]
     },
     "execution_count": 11,
     "metadata": {},
     "output_type": "execute_result"
    }
   ],
   "source": [
    "calcular_percentil(5, 'agresivoV')"
   ]
  },
  {
   "cell_type": "code",
   "execution_count": 12,
   "metadata": {},
   "outputs": [],
   "source": [
    "# bAsado en  series no en series de series \n",
    "# Calcular percentiles para cada sujeto en el DataFrame de la encuesta\n",
    "#for col in df_encuesta.columns:\n",
    "#    for index, valor in df_encuesta[col].items():\n",
    "#        agresivo_percentil = calcular_percentil(valor, 'agresivoV')\n",
    "#        control_percentil = calcular_percentil(valor, 'controlV')\n",
    "#        pasivo_percentil = calcular_percentil(valor, 'pasivoV')\n",
    "#        print(f\"Sujeto: {col}, Valor: {valor}, Percentil Agresivo: {agresivo_percentil}, Percentil Control: {control_percentil}, Percentil Pasivo: {pasivo_percentil}\")"
   ]
  },
  {
   "cell_type": "code",
   "execution_count": 13,
   "metadata": {},
   "outputs": [],
   "source": [
    "\n",
    "# Función para calcular el percentil correspondiente\n",
    "#def calcular_percentil(valor, tipo_comportamiento):\n",
    " #   percentil = df_percentiles[df_percentiles[tipo_comportamiento] >= valor][tipo_comportamiento].iloc[0]\n",
    " #   return percentil if percentil is not None else 100"
   ]
  },
  {
   "cell_type": "code",
   "execution_count": 14,
   "metadata": {},
   "outputs": [
    {
     "data": {
      "text/html": [
       "<div>\n",
       "<style scoped>\n",
       "    .dataframe tbody tr th:only-of-type {\n",
       "        vertical-align: middle;\n",
       "    }\n",
       "\n",
       "    .dataframe tbody tr th {\n",
       "        vertical-align: top;\n",
       "    }\n",
       "\n",
       "    .dataframe thead th {\n",
       "        text-align: right;\n",
       "    }\n",
       "</style>\n",
       "<table border=\"1\" class=\"dataframe\">\n",
       "  <thead>\n",
       "    <tr style=\"text-align: right;\">\n",
       "      <th></th>\n",
       "      <th>Suje1</th>\n",
       "      <th>Suje2</th>\n",
       "      <th>Suje3</th>\n",
       "      <th>Suje4</th>\n",
       "    </tr>\n",
       "  </thead>\n",
       "  <tbody>\n",
       "    <tr>\n",
       "      <th>0</th>\n",
       "      <td>[5, 18, 16]</td>\n",
       "      <td>[5, 17, 18]</td>\n",
       "      <td>[11, 18, 8]</td>\n",
       "      <td>[9, 22, 0]</td>\n",
       "    </tr>\n",
       "  </tbody>\n",
       "</table>\n",
       "</div>"
      ],
      "text/plain": [
       "         Suje1        Suje2        Suje3       Suje4\n",
       "0  [5, 18, 16]  [5, 17, 18]  [11, 18, 8]  [9, 22, 0]"
      ]
     },
     "execution_count": 14,
     "metadata": {},
     "output_type": "execute_result"
    }
   ],
   "source": [
    "# series de series \n",
    "data = {\n",
    "    'Suje1': [[5, 18, 16]],\n",
    "    'Suje2': [[5, 17, 18]],\n",
    "    'Suje3': [[11, 18, 8]],\n",
    "    'Suje4': [[9, 22, 0]]\n",
    "}\n",
    "df_encuesta = pd.DataFrame(data)\n",
    "df_encuesta.head()"
   ]
  },
  {
   "cell_type": "code",
   "execution_count": 18,
   "metadata": {},
   "outputs": [
    {
     "name": "stdout",
     "output_type": "stream",
     "text": [
      "Sujeto: Suje1, Valor Control: 5, Percentil Control: 10\n",
      "Sujeto: Suje1, Valor Pasivo: 16, Percentil Pasivo: 99\n",
      "Sujeto: Suje1, Valor Agresivo: 18, Percentil Agresivo: 90\n",
      "Sujeto: Suje2, Valor Control: 5, Percentil Control: 10\n",
      "Sujeto: Suje2, Valor Pasivo: 18, Percentil Pasivo: 99\n",
      "Sujeto: Suje2, Valor Agresivo: 17, Percentil Agresivo: 90\n",
      "Sujeto: Suje3, Valor Control: 11, Percentil Control: 30\n",
      "Sujeto: Suje3, Valor Pasivo: 8, Percentil Pasivo: 70\n",
      "Sujeto: Suje3, Valor Agresivo: 18, Percentil Agresivo: 90\n",
      "Sujeto: Suje4, Valor Control: 9, Percentil Control: 20\n",
      "Sujeto: Suje4, Valor Pasivo: 0, Percentil Pasivo: 1\n",
      "Sujeto: Suje4, Valor Agresivo: 22, Percentil Agresivo: 99\n"
     ]
    }
   ],
   "source": [
    "# Calcular percentiles para cada sujeto en el DataFrame de la encuesta\n",
    "for col in df_encuesta.columns:\n",
    "    for index, valores in df_encuesta[col].items():\n",
    "        control_percentil = calcular_percentil(valores[0], 'controlV')\n",
    "        pasivo_percentil = calcular_percentil(valores[2], 'pasivoV')\n",
    "        agresivo_percentil = calcular_percentil(valores[1], 'agresivoV')\n",
    "        print(f\"Sujeto: {col}, Valor Control: {valores[0]}, Percentil Control: {control_percentil}\")\n",
    "        print(f\"Sujeto: {col}, Valor Pasivo: {valores[2]}, Percentil Pasivo: {pasivo_percentil}\")\n",
    "        print(f\"Sujeto: {col}, Valor Agresivo: {valores[1]}, Percentil Agresivo: {agresivo_percentil}\")"
   ]
  },
  {
   "cell_type": "code",
   "execution_count": 20,
   "metadata": {},
   "outputs": [
    {
     "name": "stdout",
     "output_type": "stream",
     "text": [
      "  Sujeto  Valor Control  Percentil Control  Valor Pasivo  Percentil Pasivo  \\\n",
      "0  Suje1              5                 10            16                99   \n",
      "1  Suje2              5                 10            18                99   \n",
      "2  Suje3             11                 30             8                70   \n",
      "3  Suje4              9                 20             0                 1   \n",
      "\n",
      "   Valor Agresivo  Percentil Agresivo  \n",
      "0              18                  90  \n",
      "1              17                  90  \n",
      "2              18                  90  \n",
      "3              22                  99  \n"
     ]
    }
   ],
   "source": [
    "\n",
    "# Lista para almacenar los resultados de cada sujeto\n",
    "resultados = []\n",
    "\n",
    "# Calcular percentiles para cada sujeto en el DataFrame de la encuesta\n",
    "for col in df_encuesta.columns:\n",
    "    for index, valores in df_encuesta[col].items():\n",
    "        control_percentil = calcular_percentil(valores[0], 'controlV')\n",
    "        pasivo_percentil = calcular_percentil(valores[2], 'pasivoV')\n",
    "        agresivo_percentil = calcular_percentil(valores[1], 'agresivoV')\n",
    "        \n",
    "        # Guardar los resultados en un diccionario\n",
    "        resultados.append({\n",
    "            'Sujeto': col,\n",
    "            'Valor Control': valores[0],\n",
    "            'Percentil Control': control_percentil,\n",
    "            'Valor Pasivo': valores[2],\n",
    "            'Percentil Pasivo': pasivo_percentil,\n",
    "            'Valor Agresivo': valores[1],\n",
    "            'Percentil Agresivo': agresivo_percentil\n",
    "        })\n",
    "\n",
    "# Convertir la lista de resultados en un DataFrame\n",
    "df_resultados = pd.DataFrame(resultados)\n",
    "\n",
    "# Mostrar el DataFrame con los resultados\n",
    "print(df_resultados)"
   ]
  },
  {
   "cell_type": "code",
   "execution_count": null,
   "metadata": {},
   "outputs": [],
   "source": []
  },
  {
   "cell_type": "code",
   "execution_count": 17,
   "metadata": {},
   "outputs": [
    {
     "ename": "KeyError",
     "evalue": "20",
     "output_type": "error",
     "traceback": [
      "\u001b[0;31m---------------------------------------------------------------------------\u001b[0m",
      "\u001b[0;31mKeyError\u001b[0m                                  Traceback (most recent call last)",
      "File \u001b[0;32m~/work/git/raulcabs/.venv/lib/python3.11/site-packages/pandas/core/indexes/base.py:3805\u001b[0m, in \u001b[0;36mIndex.get_loc\u001b[0;34m(self, key)\u001b[0m\n\u001b[1;32m   3804\u001b[0m \u001b[39mtry\u001b[39;00m:\n\u001b[0;32m-> 3805\u001b[0m     \u001b[39mreturn\u001b[39;00m \u001b[39mself\u001b[39;49m\u001b[39m.\u001b[39;49m_engine\u001b[39m.\u001b[39;49mget_loc(casted_key)\n\u001b[1;32m   3806\u001b[0m \u001b[39mexcept\u001b[39;00m \u001b[39mKeyError\u001b[39;00m \u001b[39mas\u001b[39;00m err:\n",
      "File \u001b[0;32mindex.pyx:167\u001b[0m, in \u001b[0;36mpandas._libs.index.IndexEngine.get_loc\u001b[0;34m()\u001b[0m\n",
      "File \u001b[0;32mindex.pyx:196\u001b[0m, in \u001b[0;36mpandas._libs.index.IndexEngine.get_loc\u001b[0;34m()\u001b[0m\n",
      "File \u001b[0;32mpandas/_libs/hashtable_class_helper.pxi:7081\u001b[0m, in \u001b[0;36mpandas._libs.hashtable.PyObjectHashTable.get_item\u001b[0;34m()\u001b[0m\n",
      "File \u001b[0;32mpandas/_libs/hashtable_class_helper.pxi:7089\u001b[0m, in \u001b[0;36mpandas._libs.hashtable.PyObjectHashTable.get_item\u001b[0;34m()\u001b[0m\n",
      "\u001b[0;31mKeyError\u001b[0m: 20",
      "\nThe above exception was the direct cause of the following exception:\n",
      "\u001b[0;31mKeyError\u001b[0m                                  Traceback (most recent call last)",
      "\u001b[1;32m/home/carlos/work/git/raulcabs/testCAB.ipynb Cell 17\u001b[0m line \u001b[0;36m1\n\u001b[0;32m----> <a href='vscode-notebook-cell:/home/carlos/work/git/raulcabs/testCAB.ipynb#X22sZmlsZQ%3D%3D?line=0'>1</a>\u001b[0m df_resultados[control_percentil]\u001b[39m.\u001b[39mplot()\n",
      "File \u001b[0;32m~/work/git/raulcabs/.venv/lib/python3.11/site-packages/pandas/core/frame.py:4102\u001b[0m, in \u001b[0;36mDataFrame.__getitem__\u001b[0;34m(self, key)\u001b[0m\n\u001b[1;32m   4100\u001b[0m \u001b[39mif\u001b[39;00m \u001b[39mself\u001b[39m\u001b[39m.\u001b[39mcolumns\u001b[39m.\u001b[39mnlevels \u001b[39m>\u001b[39m \u001b[39m1\u001b[39m:\n\u001b[1;32m   4101\u001b[0m     \u001b[39mreturn\u001b[39;00m \u001b[39mself\u001b[39m\u001b[39m.\u001b[39m_getitem_multilevel(key)\n\u001b[0;32m-> 4102\u001b[0m indexer \u001b[39m=\u001b[39m \u001b[39mself\u001b[39;49m\u001b[39m.\u001b[39;49mcolumns\u001b[39m.\u001b[39;49mget_loc(key)\n\u001b[1;32m   4103\u001b[0m \u001b[39mif\u001b[39;00m is_integer(indexer):\n\u001b[1;32m   4104\u001b[0m     indexer \u001b[39m=\u001b[39m [indexer]\n",
      "File \u001b[0;32m~/work/git/raulcabs/.venv/lib/python3.11/site-packages/pandas/core/indexes/base.py:3812\u001b[0m, in \u001b[0;36mIndex.get_loc\u001b[0;34m(self, key)\u001b[0m\n\u001b[1;32m   3807\u001b[0m     \u001b[39mif\u001b[39;00m \u001b[39misinstance\u001b[39m(casted_key, \u001b[39mslice\u001b[39m) \u001b[39mor\u001b[39;00m (\n\u001b[1;32m   3808\u001b[0m         \u001b[39misinstance\u001b[39m(casted_key, abc\u001b[39m.\u001b[39mIterable)\n\u001b[1;32m   3809\u001b[0m         \u001b[39mand\u001b[39;00m \u001b[39many\u001b[39m(\u001b[39misinstance\u001b[39m(x, \u001b[39mslice\u001b[39m) \u001b[39mfor\u001b[39;00m x \u001b[39min\u001b[39;00m casted_key)\n\u001b[1;32m   3810\u001b[0m     ):\n\u001b[1;32m   3811\u001b[0m         \u001b[39mraise\u001b[39;00m InvalidIndexError(key)\n\u001b[0;32m-> 3812\u001b[0m     \u001b[39mraise\u001b[39;00m \u001b[39mKeyError\u001b[39;00m(key) \u001b[39mfrom\u001b[39;00m \u001b[39merr\u001b[39;00m\n\u001b[1;32m   3813\u001b[0m \u001b[39mexcept\u001b[39;00m \u001b[39mTypeError\u001b[39;00m:\n\u001b[1;32m   3814\u001b[0m     \u001b[39m# If we have a listlike key, _check_indexing_error will raise\u001b[39;00m\n\u001b[1;32m   3815\u001b[0m     \u001b[39m#  InvalidIndexError. Otherwise we fall through and re-raise\u001b[39;00m\n\u001b[1;32m   3816\u001b[0m     \u001b[39m#  the TypeError.\u001b[39;00m\n\u001b[1;32m   3817\u001b[0m     \u001b[39mself\u001b[39m\u001b[39m.\u001b[39m_check_indexing_error(key)\n",
      "\u001b[0;31mKeyError\u001b[0m: 20"
     ]
    }
   ],
   "source": [
    "df_resultados[control_percentil].plot()"
   ]
  },
  {
   "cell_type": "code",
   "execution_count": null,
   "metadata": {},
   "outputs": [],
   "source": []
  },
  {
   "cell_type": "code",
   "execution_count": 131,
   "metadata": {},
   "outputs": [],
   "source": []
  },
  {
   "cell_type": "code",
   "execution_count": null,
   "metadata": {},
   "outputs": [],
   "source": [
    "\n"
   ]
  },
  {
   "cell_type": "code",
   "execution_count": null,
   "metadata": {},
   "outputs": [],
   "source": []
  }
 ],
 "metadata": {
  "kernelspec": {
   "display_name": ".venv",
   "language": "python",
   "name": "python3"
  },
  "language_info": {
   "codemirror_mode": {
    "name": "ipython",
    "version": 3
   },
   "file_extension": ".py",
   "mimetype": "text/x-python",
   "name": "python",
   "nbconvert_exporter": "python",
   "pygments_lexer": "ipython3",
   "version": "3.11.9"
  }
 },
 "nbformat": 4,
 "nbformat_minor": 2
}
